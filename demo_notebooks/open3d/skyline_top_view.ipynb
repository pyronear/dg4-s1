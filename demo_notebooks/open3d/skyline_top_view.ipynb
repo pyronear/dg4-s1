{
 "cells": [
  {
   "cell_type": "code",
   "execution_count": 7,
   "metadata": {},
   "outputs": [],
   "source": [
    "import numpy as np\n",
    "import open3d as o3d\n",
    "from horizon import project, camera"
   ]
  },
  {
   "cell_type": "markdown",
   "metadata": {},
   "source": [
    "## Load terrain"
   ]
  },
  {
   "cell_type": "code",
   "execution_count": 5,
   "metadata": {},
   "outputs": [],
   "source": [
    "datadir = \"../../data/terrain/\"\n",
    "# import pcd file\n",
    "pc = o3d.io.read_point_cloud(datadir+'brison.xyz') # datadir+\"saved_terrain_15x15_extended.pcd\""
   ]
  },
  {
   "cell_type": "markdown",
   "metadata": {},
   "source": [
    "## Define view point"
   ]
  },
  {
   "cell_type": "code",
   "execution_count": 6,
   "metadata": {},
   "outputs": [],
   "source": [
    "lat, lon = 44.5451545715, 4.2165341377 # brison\n",
    "altitude=785 \n",
    "view_point = project.to_xy(lat, lon, altitude)"
   ]
  },
  {
   "cell_type": "markdown",
   "metadata": {},
   "source": [
    "## Project skyline on terrain\n",
    "![](../../plots/skyline_terrain.png)"
   ]
  },
  {
   "cell_type": "code",
   "execution_count": 10,
   "metadata": {},
   "outputs": [],
   "source": [
    "max_z = np.max(np.asarray(pc.points)[:,2])\n",
    "spherical = project.array_cartesian_to_spherical(pc.points, view_point)\n",
    "angles = project.get_deg_angles(spherical)\n",
    "skyline = project.get_skyline(angles)\n",
    "skyline_from_top = project.skyline_to_cartesian(spherical, angles, skyline, view_point, max_z)"
   ]
  },
  {
   "cell_type": "code",
   "execution_count": null,
   "metadata": {},
   "outputs": [],
   "source": [
    "camera.save_skyline_with_terrain(pc, skyline_from_top, '../../plots/skyline_terrain.png')"
   ]
  }
 ],
 "metadata": {
  "kernelspec": {
   "display_name": "geo",
   "language": "python",
   "name": "python3"
  },
  "language_info": {
   "codemirror_mode": {
    "name": "ipython",
    "version": 3
   },
   "file_extension": ".py",
   "mimetype": "text/x-python",
   "name": "python",
   "nbconvert_exporter": "python",
   "pygments_lexer": "ipython3",
   "version": "3.11.7"
  }
 },
 "nbformat": 4,
 "nbformat_minor": 2
}
