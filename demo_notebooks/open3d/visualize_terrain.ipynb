{
 "cells": [
  {
   "cell_type": "code",
   "execution_count": null,
   "metadata": {},
   "outputs": [],
   "source": [
    "import open3d as o3d\n",
    "import os\n",
    "from horizon import load, project, camera"
   ]
  },
  {
   "cell_type": "markdown",
   "metadata": {},
   "source": [
    "# Visualize point cloud from lidar data\n",
    "## Load Data\n",
    "**From IGN:**  \n",
    "First go to the [IGN geoservice](https://geoservices.ign.fr/lidarhd) website.  \n",
    "Select the desired tiles in the interactive map and download the url list as a txt file.  \n",
    "**Or from elevation (easier)**"
   ]
  },
  {
   "cell_type": "code",
   "execution_count": 2,
   "metadata": {},
   "outputs": [],
   "source": [
    "datadir = \"../../data/terrain/\"\n",
    "lat, lon = 44.5451545715, 4.2165341377 # brison viewpoint"
   ]
  },
  {
   "cell_type": "code",
   "execution_count": 3,
   "metadata": {},
   "outputs": [],
   "source": [
    "# IGN\n",
    "# can take time, needed only once\n",
    "# filename = saved_terrain_15x15_extended\n",
    "# if not os.path.exists(datadir+filename+'.pcd'):\n",
    "#     load.download_and_load(datadir, datadir+\"liste_dalle_extended.txt\", 10000)\n",
    "#     pc = load.load_pcd(datadir, filename)\n",
    "# else:\n",
    "#     pc = o3d.io.read_point_cloud(datadir+filename)"
   ]
  },
  {
   "cell_type": "code",
   "execution_count": 3,
   "metadata": {},
   "outputs": [],
   "source": [
    "# elevation\n",
    "if not os.path.exists(datadir+'brison.xyz'):\n",
    "    load.download_from_eio(datadir, 'brison', lat, lon)\n",
    "pc = o3d.io.read_point_cloud(datadir+'brison.xyz')"
   ]
  },
  {
   "cell_type": "code",
   "execution_count": 4,
   "metadata": {},
   "outputs": [],
   "source": [
    "# display test\n",
    "o3d.visualization.draw_geometries([pc])"
   ]
  },
  {
   "cell_type": "markdown",
   "metadata": {},
   "source": [
    "## Define view point"
   ]
  },
  {
   "cell_type": "code",
   "execution_count": 4,
   "metadata": {},
   "outputs": [],
   "source": [
    "altitude=785\n",
    "view_point = project.to_xy(lat, lon, altitude)"
   ]
  },
  {
   "cell_type": "code",
   "execution_count": 5,
   "metadata": {},
   "outputs": [
    {
     "data": {
      "text/plain": [
       "TriangleMesh with 762 points and 1520 triangles."
      ]
     },
     "execution_count": 5,
     "metadata": {},
     "output_type": "execute_result"
    }
   ],
   "source": [
    "# Add a sphere at view point (optional)\n",
    "sphere = o3d.geometry.TriangleMesh.create_sphere(radius=15)\n",
    "sphere.translate(view_point)"
   ]
  },
  {
   "cell_type": "code",
   "execution_count": 6,
   "metadata": {},
   "outputs": [
    {
     "data": {
      "text/plain": [
       "(914.206475584154, 914.2064755841538)"
      ]
     },
     "execution_count": 6,
     "metadata": {},
     "output_type": "execute_result"
    }
   ],
   "source": [
    "width = 1280\n",
    "height = 720\n",
    "# read camera parameters\n",
    "parameters = o3d.io.read_pinhole_camera_parameters(\"../../data/open3d_parameters/ScreenCamera_viewpoint.json\")\n",
    "# change intrinsic and extrinsinc matrices in this file\n",
    "# for example, the following function compute the focal length in pixels from the camera parameters\n",
    "camera.get_focal_length_px(4, 1/2.49)"
   ]
  },
  {
   "cell_type": "code",
   "execution_count": 7,
   "metadata": {},
   "outputs": [],
   "source": [
    "# example to set the camera to the registered location\n",
    "camera.visualize([pc, sphere], parameters)"
   ]
  },
  {
   "cell_type": "markdown",
   "metadata": {},
   "source": [
    "## Set camera actions"
   ]
  },
  {
   "cell_type": "markdown",
   "metadata": {},
   "source": [
    "Register camera position (once):\n",
    "- place camera vertically to have viewpoint around the center (eventually use U)\n",
    "- use L to lock the viewpoint direction\n",
    "- use T to translate until viewpoint is reached\n",
    "- use P to save the camera parameters\n",
    "\n",
    "Place camera to viewpoint:\n",
    "- use V to set view\n",
    "- use left/right arrows to rotate until desired view is obtained\n",
    "- use D to save depth parameters"
   ]
  },
  {
   "cell_type": "code",
   "execution_count": null,
   "metadata": {},
   "outputs": [],
   "source": [
    "key_to_callback = camera.callbacks(parameters, view_point)\n",
    "o3d.visualization.draw_geometries_with_key_callbacks([pc, sphere], key_to_callback, width=width, height=height)"
   ]
  }
 ],
 "metadata": {
  "kernelspec": {
   "display_name": "geo",
   "language": "python",
   "name": "python3"
  },
  "language_info": {
   "codemirror_mode": {
    "name": "ipython",
    "version": 3
   },
   "file_extension": ".py",
   "mimetype": "text/x-python",
   "name": "python",
   "nbconvert_exporter": "python",
   "pygments_lexer": "ipython3",
   "version": "3.11.7"
  }
 },
 "nbformat": 4,
 "nbformat_minor": 2
}
