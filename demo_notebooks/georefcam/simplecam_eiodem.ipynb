{
 "cells": [
  {
   "cell_type": "markdown",
   "id": "0f96abf2-b622-4663-99f6-272d6a70fbbe",
   "metadata": {},
   "source": [
    "### Ce notebook présente la création d'un système de géoréférencement à l'aide du package `georefcam`. Il utilise en particulier un DEM issu du package `elevation` et un modèle de caméra ponctuelle."
   ]
  },
  {
   "cell_type": "code",
   "execution_count": 19,
   "id": "6530d4ae-7863-4807-ba45-fa7d98ba7470",
   "metadata": {},
   "outputs": [],
   "source": [
    "%matplotlib widget\n",
    "import geopandas as gpd\n",
    "import logging\n",
    "import math\n",
    "import numpy as np\n",
    "import pickle\n",
    "import pandas as pd\n",
    "import pyvista as pv\n",
    "\n",
    "from georefcam.camera_model import SimpleCameraModel\n",
    "from georefcam.dem import EioDEM\n",
    "from georefcam.georefcam import GeoRefCam, project_points_to_crs\n",
    "from pathlib import Path\n",
    "from PIL import Image\n",
    "\n",
    "# logging.basicConfig(level=logging.DEBUG)"
   ]
  },
  {
   "cell_type": "markdown",
   "id": "2d41773a-7ffa-452f-9de3-e651d3d3ee86",
   "metadata": {},
   "source": [
    "# Définition des dossiers contenant les données nécessaires à l'exécution du notebook (À ÉDITER)"
   ]
  },
  {
   "cell_type": "code",
   "execution_count": 20,
   "id": "570f343c-ddd4-4e5a-a450-9d92db1ca9a1",
   "metadata": {},
   "outputs": [],
   "source": [
    "camdata_dir = Path(\"../../data/pyronear_cam_data\")\n",
    "terrain_dir = \"../../data/terrain/\"\n",
    "cam_name = \"brison_4\"\n",
    "test_img_name = \"pyronear_brison_4_2023_07_04T06_07_57.jpg\"\n",
    "gcp_filepath = \"../../georefcam/df_annotations.csv\""
   ]
  },
  {
   "cell_type": "markdown",
   "id": "766fd991-b35b-4118-9786-7f88e02dc057",
   "metadata": {},
   "source": [
    "# Récupération des données de localisation/orientation de la caméra"
   ]
  },
  {
   "cell_type": "markdown",
   "id": "280a2a7f-e72b-4bf9-9fd0-3b4fe08c5fc2",
   "metadata": {},
   "source": [
    "Création d'un geodataframe des caméras utilisées à l'aide du fichier de référence 'API_DATA - devices.csv' :"
   ]
  },
  {
   "cell_type": "code",
   "execution_count": 21,
   "id": "7a831373-7f57-4b76-8a47-dba4734b2809",
   "metadata": {},
   "outputs": [],
   "source": [
    "cam_file = camdata_dir / \"API_DATA - devices.csv\"\n",
    "df_cams = pd.read_csv(cam_file)\n",
    "gdf_cams = gpd.GeoDataFrame(geometry=gpd.points_from_xy(df_cams.lon, df_cams.lat, crs=\"WGS84\"), data=df_cams)"
   ]
  },
  {
   "cell_type": "markdown",
   "id": "890f958f-4681-49c4-b012-0096693836a1",
   "metadata": {},
   "source": [
    "Sélection d'une caméra et récupération de ses informations"
   ]
  },
  {
   "cell_type": "code",
   "execution_count": 22,
   "id": "cf2e7386-2446-47af-9394-e3f446d484a3",
   "metadata": {},
   "outputs": [],
   "source": [
    "cam_info = gdf_cams[gdf_cams.login == cam_name].squeeze()\n",
    "test_img_path = camdata_dir / cam_name / test_img_name\n",
    "test_img = Image.open(test_img_path)\n",
    "test_img_res = test_img.size"
   ]
  },
  {
   "cell_type": "markdown",
   "id": "2fd2831b-aed0-4982-9065-b959319486d5",
   "metadata": {},
   "source": [
    "# Création d'une caméra géoréférencée avec `georefcam`"
   ]
  },
  {
   "cell_type": "markdown",
   "id": "f57d7be9-fafa-4220-a64e-baa006f3a398",
   "metadata": {},
   "source": [
    "Détermination des limites géographiques du dem (centré sur la caméra, 50km de côté)"
   ]
  },
  {
   "cell_type": "code",
   "execution_count": 23,
   "id": "2ab3cbf9-344c-43d8-9933-42dbc6858d7b",
   "metadata": {},
   "outputs": [],
   "source": [
    "def bounds_from_distance(lat, lon, km):\n",
    "    dlat = (km/2) / 111.11\n",
    "    dlon = dlat / math.cos(math.radians(lat))\n",
    "    return [lon - dlon, lat - dlat, lon + dlon, lat + dlat]\n",
    "\n",
    "bounds = bounds_from_distance(cam_info.lat, cam_info.lon, 50)"
   ]
  },
  {
   "cell_type": "markdown",
   "id": "8c185392-e1cc-410b-ab71-fea64a0d20e7",
   "metadata": {},
   "source": [
    "Création d'un DEM avec `EioDEM`"
   ]
  },
  {
   "cell_type": "code",
   "execution_count": null,
   "id": "c0273a6e-cd2f-4df7-af8d-071135578f6b",
   "metadata": {},
   "outputs": [],
   "source": [
    "demfilepath = Path.cwd() / Path(terrain_dir+'eiodem.tiff')\n",
    "dem = EioDEM(bounds, filepath=demfilepath)\n",
    "dem.build_pcd(sample_step=1)\n",
    "dem.build_mesh()"
   ]
  },
  {
   "cell_type": "markdown",
   "id": "22f0697d-0cd9-410f-b775-299d5123ac6d",
   "metadata": {},
   "source": [
    "Sauvegarde du DEM en cas de crash du kernel (il peut aussi facilement être recréé à l'aide des cellules précédentes)"
   ]
  },
  {
   "cell_type": "code",
   "execution_count": 36,
   "id": "f90058a1-2f5e-4706-a1e3-0c8de7ea6b67",
   "metadata": {},
   "outputs": [],
   "source": [
    "with open(terrain_dir+\"dem_eio.pkl\", \"wb\") as f:\n",
    "    pickle.dump(dem, f)"
   ]
  },
  {
   "cell_type": "markdown",
   "id": "4d6afebe-a043-4561-8a58-d1c4fd27f814",
   "metadata": {},
   "source": [
    "Création d'un modèle de caméra orientée et localisée avec `SimpleCameraModel`"
   ]
  },
  {
   "cell_type": "code",
   "execution_count": 37,
   "id": "aa52628e-1bda-4b86-bd7d-1ffce8b95879",
   "metadata": {},
   "outputs": [],
   "source": [
    "cam_view_x_angle, cam_view_y_angle = 87, 44\n",
    "cam_roll = 0\n",
    "cam_model = SimpleCameraModel(\n",
    "    test_img_res,\n",
    "    cam_view_x_angle,\n",
    "    cam_view_y_angle,\n",
    "    cam_info.azimuth,\n",
    "    cam_info.pitch,\n",
    "    cam_roll,\n",
    "    cam_info.lat,\n",
    "    cam_info.lon,\n",
    "    cam_info.elevation,\n",
    "    dem.crs\n",
    ")"
   ]
  },
  {
   "cell_type": "markdown",
   "id": "dd385bad-b4ca-402e-a018-63c4b2322b14",
   "metadata": {},
   "source": [
    "Création du modèle de caméra géoréférencée"
   ]
  },
  {
   "cell_type": "code",
   "execution_count": 38,
   "id": "7ef44540-15c8-436f-8edb-c7cf9049a86f",
   "metadata": {},
   "outputs": [],
   "source": [
    "geocam = GeoRefCam(cam_model, dem)"
   ]
  },
  {
   "cell_type": "markdown",
   "id": "92c6a127-0ac0-424c-a08d-798f8b6225f2",
   "metadata": {},
   "source": [
    "# Évaluation de la projection d'un ensemble de GCP"
   ]
  },
  {
   "cell_type": "code",
   "execution_count": 39,
   "id": "0be8c3f9-d59e-43e6-8817-4ce4456ca58c",
   "metadata": {},
   "outputs": [
    {
     "data": {
      "text/html": [
       "<div>\n",
       "<style scoped>\n",
       "    .dataframe tbody tr th:only-of-type {\n",
       "        vertical-align: middle;\n",
       "    }\n",
       "\n",
       "    .dataframe tbody tr th {\n",
       "        vertical-align: top;\n",
       "    }\n",
       "\n",
       "    .dataframe thead th {\n",
       "        text-align: right;\n",
       "    }\n",
       "</style>\n",
       "<table border=\"1\" class=\"dataframe\">\n",
       "  <thead>\n",
       "    <tr style=\"text-align: right;\">\n",
       "      <th></th>\n",
       "      <th>Unnamed: 0</th>\n",
       "      <th>posx</th>\n",
       "      <th>posy</th>\n",
       "      <th>lat</th>\n",
       "      <th>lon</th>\n",
       "      <th>alt</th>\n",
       "      <th>geometry</th>\n",
       "    </tr>\n",
       "  </thead>\n",
       "  <tbody>\n",
       "    <tr>\n",
       "      <th>0</th>\n",
       "      <td>0</td>\n",
       "      <td>651</td>\n",
       "      <td>328</td>\n",
       "      <td>44.609620</td>\n",
       "      <td>4.098371</td>\n",
       "      <td>1448.0</td>\n",
       "      <td>POINT Z (4.09837 44.60962 1448.00000)</td>\n",
       "    </tr>\n",
       "    <tr>\n",
       "      <th>1</th>\n",
       "      <td>1</td>\n",
       "      <td>789</td>\n",
       "      <td>319</td>\n",
       "      <td>44.612899</td>\n",
       "      <td>4.126470</td>\n",
       "      <td>1458.0</td>\n",
       "      <td>POINT Z (4.12647 44.61290 1458.00000)</td>\n",
       "    </tr>\n",
       "    <tr>\n",
       "      <th>2</th>\n",
       "      <td>2</td>\n",
       "      <td>978</td>\n",
       "      <td>409</td>\n",
       "      <td>44.577702</td>\n",
       "      <td>4.188103</td>\n",
       "      <td>643.0</td>\n",
       "      <td>POINT Z (4.18810 44.57770 643.00000)</td>\n",
       "    </tr>\n",
       "    <tr>\n",
       "      <th>3</th>\n",
       "      <td>3</td>\n",
       "      <td>1190</td>\n",
       "      <td>310</td>\n",
       "      <td>44.612280</td>\n",
       "      <td>4.185187</td>\n",
       "      <td>1316.0</td>\n",
       "      <td>POINT Z (4.18519 44.61228 1316.00000)</td>\n",
       "    </tr>\n",
       "  </tbody>\n",
       "</table>\n",
       "</div>"
      ],
      "text/plain": [
       "   Unnamed: 0  posx  posy        lat       lon     alt   \n",
       "0           0   651   328  44.609620  4.098371  1448.0  \\\n",
       "1           1   789   319  44.612899  4.126470  1458.0   \n",
       "2           2   978   409  44.577702  4.188103   643.0   \n",
       "3           3  1190   310  44.612280  4.185187  1316.0   \n",
       "\n",
       "                                geometry  \n",
       "0  POINT Z (4.09837 44.60962 1448.00000)  \n",
       "1  POINT Z (4.12647 44.61290 1458.00000)  \n",
       "2   POINT Z (4.18810 44.57770 643.00000)  \n",
       "3  POINT Z (4.18519 44.61228 1316.00000)  "
      ]
     },
     "execution_count": 39,
     "metadata": {},
     "output_type": "execute_result"
    }
   ],
   "source": [
    "df_annot_gcp = pd.read_csv(gcp_filepath)\n",
    "df_annot_gcp = df_annot_gcp.rename({\"ele\": \"alt\"}, axis=1).astype({\"posx\": int, \"posy\": int, \"lat\": float, \"lon\": float, \"alt\": float})\n",
    "df_annot_gcp\n",
    "gdf_annot_gcp = gpd.GeoDataFrame(df_annot_gcp, geometry=gpd.points_from_xy(df_annot_gcp.lon, df_annot_gcp.lat, df_annot_gcp.alt), crs=\"WGS84\")\n",
    "gdf_annot_gcp"
   ]
  },
  {
   "cell_type": "markdown",
   "id": "72ef5fc3-b701-4e76-a90f-6c8d79adccd0",
   "metadata": {},
   "source": [
    "Sélection d'un ensemble de GCPs et génération de leurs rayons de projection dans le repère monde"
   ]
  },
  {
   "cell_type": "code",
   "execution_count": 40,
   "id": "b405b180-7dcb-4324-8d64-e2fcc85f894f",
   "metadata": {},
   "outputs": [
    {
     "data": {
      "text/plain": [
       "array([[[     0.        , -43878.77833555],\n",
       "        [     0.        ,  89859.07195036],\n",
       "        [   780.        ,  -4443.91261449]],\n",
       "\n",
       "       [[     0.        , -43878.77833555],\n",
       "        [     0.        ,  89859.07195036],\n",
       "        [   780.        ,  -4443.91261449]]])"
      ]
     },
     "execution_count": 40,
     "metadata": {},
     "output_type": "execute_result"
    }
   ],
   "source": [
    "test_gcp_idx = [2, 2]\n",
    "pixel_points = gdf_annot_gcp.loc[test_gcp_idx, [\"posx\", \"posy\"]].values\n",
    "\n",
    "rays = geocam.camera_model.project_pixel_points_to_world_rays(pixel_points)\n",
    "rays"
   ]
  },
  {
   "cell_type": "markdown",
   "id": "97f82f12-8779-4435-b4a0-223e013514ff",
   "metadata": {},
   "source": [
    "Calcul de l'intersection entre les rayons et le DEM"
   ]
  },
  {
   "cell_type": "code",
   "execution_count": 41,
   "id": "54682a97-3708-4798-84ae-5fdb42b6bb4e",
   "metadata": {},
   "outputs": [
    {
     "data": {
      "text/html": [
       "<div>\n",
       "<style scoped>\n",
       "    .dataframe tbody tr th:only-of-type {\n",
       "        vertical-align: middle;\n",
       "    }\n",
       "\n",
       "    .dataframe tbody tr th {\n",
       "        vertical-align: top;\n",
       "    }\n",
       "\n",
       "    .dataframe thead th {\n",
       "        text-align: right;\n",
       "    }\n",
       "</style>\n",
       "<table border=\"1\" class=\"dataframe\">\n",
       "  <thead>\n",
       "    <tr style=\"text-align: right;\">\n",
       "      <th></th>\n",
       "      <th>ori_x</th>\n",
       "      <th>ori_y</th>\n",
       "      <th>ori_z</th>\n",
       "      <th>dest_x</th>\n",
       "      <th>dest_y</th>\n",
       "      <th>dest_z</th>\n",
       "      <th>inter_x</th>\n",
       "      <th>inter_y</th>\n",
       "      <th>inter_z</th>\n",
       "      <th>n_tri</th>\n",
       "      <th>dist_o</th>\n",
       "    </tr>\n",
       "    <tr>\n",
       "      <th>n_ray</th>\n",
       "      <th></th>\n",
       "      <th></th>\n",
       "      <th></th>\n",
       "      <th></th>\n",
       "      <th></th>\n",
       "      <th></th>\n",
       "      <th></th>\n",
       "      <th></th>\n",
       "      <th></th>\n",
       "      <th></th>\n",
       "      <th></th>\n",
       "    </tr>\n",
       "  </thead>\n",
       "  <tbody>\n",
       "    <tr>\n",
       "      <th>0</th>\n",
       "      <td>0.0</td>\n",
       "      <td>0.0</td>\n",
       "      <td>780.0</td>\n",
       "      <td>-43878.778336</td>\n",
       "      <td>89859.07195</td>\n",
       "      <td>-4443.912614</td>\n",
       "      <td>-2266.987549</td>\n",
       "      <td>4642.549316</td>\n",
       "      <td>510.107697</td>\n",
       "      <td>257149</td>\n",
       "      <td>5173.522838</td>\n",
       "    </tr>\n",
       "    <tr>\n",
       "      <th>1</th>\n",
       "      <td>0.0</td>\n",
       "      <td>0.0</td>\n",
       "      <td>780.0</td>\n",
       "      <td>-43878.778336</td>\n",
       "      <td>89859.07195</td>\n",
       "      <td>-4443.912614</td>\n",
       "      <td>-2266.987549</td>\n",
       "      <td>4642.549316</td>\n",
       "      <td>510.107697</td>\n",
       "      <td>257149</td>\n",
       "      <td>5173.522838</td>\n",
       "    </tr>\n",
       "  </tbody>\n",
       "</table>\n",
       "</div>"
      ],
      "text/plain": [
       "       ori_x  ori_y  ori_z        dest_x       dest_y       dest_z   \n",
       "n_ray                                                                \n",
       "0        0.0    0.0  780.0 -43878.778336  89859.07195 -4443.912614  \\\n",
       "1        0.0    0.0  780.0 -43878.778336  89859.07195 -4443.912614   \n",
       "\n",
       "           inter_x      inter_y     inter_z   n_tri       dist_o  \n",
       "n_ray                                                             \n",
       "0     -2266.987549  4642.549316  510.107697  257149  5173.522838  \n",
       "1     -2266.987549  4642.549316  510.107697  257149  5173.522838  "
      ]
     },
     "execution_count": 41,
     "metadata": {},
     "output_type": "execute_result"
    }
   ],
   "source": [
    "filtered_inter_points, filtered_inter_triangles, df_ray = geocam.cast_rays(\n",
    "                rays, check_crs=False, min_d_intersection_m=50, return_df_ray=True, cast_method=\"seq\", max_cp_time_s=30)\n",
    "\n",
    "df_ray"
   ]
  },
  {
   "cell_type": "markdown",
   "id": "2d9370d2-577c-462d-ae28-1bee69f68e47",
   "metadata": {},
   "source": [
    "Sauvegarde des résultats (si le kernel crashe, charger les pickle dans un autre notebook et y exécuter la cellule de plot)"
   ]
  },
  {
   "cell_type": "code",
   "execution_count": 42,
   "id": "a84907b6-9a2c-4cc3-9a0e-8af064fe1a29",
   "metadata": {},
   "outputs": [],
   "source": [
    "with open(terrain_dir+\"eio_simplecam_proj.pkl\", \"wb\") as f:\n",
    "    pickle.dump([df_ray, gdf_annot_gcp, test_gcp_idx], f)"
   ]
  },
  {
   "cell_type": "code",
   "execution_count": 43,
   "id": "15786953-effb-4613-b963-b31b2d467aee",
   "metadata": {},
   "outputs": [],
   "source": [
    "with open(terrain_dir+\"eio_simplecam_proj.pkl\", \"rb\") as f:\n",
    "    df_ray, gdf_annot_gcp, test_gcp_idx = pickle.load(f)"
   ]
  },
  {
   "cell_type": "markdown",
   "id": "4f7fd552-8fde-4688-ad73-0d9ac8a9fc92",
   "metadata": {},
   "source": [
    "Récupération des coordonnées GPS du point d'intersection"
   ]
  },
  {
   "cell_type": "code",
   "execution_count": 44,
   "id": "154eb88a-f712-4fb9-9e01-8bbcb4ede15e",
   "metadata": {},
   "outputs": [
    {
     "data": {
      "text/plain": [
       "array([[ 44.58692937,   4.18798672, 510.10769653]])"
      ]
     },
     "execution_count": 44,
     "metadata": {},
     "output_type": "execute_result"
    }
   ],
   "source": [
    "project_points_to_crs(df_ray.loc[0, [\"inter_x\", \"inter_y\", \"inter_z\"]].to_numpy(), dem.crs, \"wgs84\")"
   ]
  },
  {
   "cell_type": "markdown",
   "id": "ec794d69-c249-42eb-b4bc-054ad0aa96e8",
   "metadata": {},
   "source": [
    "Plot de la projection"
   ]
  },
  {
   "cell_type": "code",
   "execution_count": null,
   "id": "baba6753-48c2-43ae-ad6e-485dadea9243",
   "metadata": {},
   "outputs": [],
   "source": [
    "plot_margin_m = 1000\n",
    "\n",
    "target_points = np.array([list(gdf_annot_gcp.to_crs(dem.crs).loc[idx, \"geometry\"].coords)[0] for idx in [test_gcp_idx[0]]])\n",
    "origins = df_ray[[\"ori_x\", \"ori_y\", \"ori_z\"]].values\n",
    "inter_points = df_ray[[\"inter_x\", \"inter_y\", \"inter_z\"]].values\n",
    "\n",
    "points_of_interest = np.vstack((target_points, origins, inter_points))\n",
    "(x_min, y_min, _) = points_of_interest.min(axis=0) - plot_margin_m\n",
    "(x_max, y_max, _) = points_of_interest.max(axis=0) + plot_margin_m\n",
    "\n",
    "alts_meshgrid = dem.pcd\n",
    "zone_mask_idx = np.vstack(((alts_meshgrid[:, :, 0] > x_min) & (alts_meshgrid[:, :, 0] < x_max) & (alts_meshgrid[:, :, 1] > y_min) & (alts_meshgrid[:, :, 1] < y_max)).nonzero())\n",
    "x_min_idx, y_min_idx = zone_mask_idx.min(axis=1)\n",
    "x_max_idx, y_max_idx = zone_mask_idx.max(axis=1)\n",
    "# plot_meshgrid = alts_meshgrid[x_min_idx:x_max_idx, y_min_idx:y_max_idx, :]\n",
    "\n",
    "# plot_pv_meshgrid = pv.StructuredGrid(*[plot_meshgrid[:, :, i] for i in range(3)])\n",
    "# plot_pv_meshgrid[\"alt\"] = plot_meshgrid[:, :, 2].ravel(order=\"F\")  # add the altitude as a scalar field in order to plot it as a colormap\n",
    "plot_pv_meshgrid = dem.mesh\n",
    "\n",
    "plotter = pv.Plotter()\n",
    "plotter.add_mesh(plot_pv_meshgrid, smooth_shading=True, specular=0.5, specular_power=15)\n",
    "\n",
    "bar_height_m = round(max(abs(alts_meshgrid[0, x_max_idx, 0] - alts_meshgrid[0, x_min_idx, 0]), abs(alts_meshgrid[y_max_idx, 0, 1] - alts_meshgrid[y_min_idx, 0, 1])) / 10)\n",
    "\n",
    "targets_pl = [pv.Line(target_point, target_point + np.array([0, 0, bar_height_m])) for target_point in target_points]\n",
    "origins_pl = [pv.Line(origin, origin + np.array([0, 0, bar_height_m])) for origin in origins]\n",
    "inters_pl = [pv.Line(inter_point, inter_point + np.array([0, 0, bar_height_m])) for inter_point in inter_points]\n",
    "ray_cuts = [pv.Line(origin, inter_point) for origin, inter_point in zip(origins, inter_points)]\n",
    "sep_lines = [pv.Line([target_point[0], target_point[1], max(target_point[2], inter_point[2])], [inter_point[0], inter_point[1], max(target_point[2], inter_point[2])]) for target_point, inter_point in zip(target_points, inter_points)]\n",
    "intersections = [pv.PolyData(inter_point) for inter_point in inter_points]\n",
    "\n",
    "for n_proj in range(len(target_points)):\n",
    "    plotter.add_mesh(origins_pl[n_proj], color=\"red\", line_width=2, opacity=1, label=\"Camera plumb line\")\n",
    "    plotter.add_mesh(ray_cuts[n_proj], color=\"orange\", line_width=2, opacity=1, label=\"Ray segment\")\n",
    "    plotter.add_mesh(inters_pl[n_proj], color=\"lightgreen\", line_width=2, opacity=1, label=\"Intersection point plumb line\")\n",
    "    plotter.add_mesh(targets_pl[n_proj], color=\"yellow\", line_width=2, opacity=1, label=\"Target point plumb line\")\n",
    "    plotter.add_mesh(sep_lines[n_proj], color=\"cyan\", line_width=2, opacity=1,\n",
    "                    label=f\"horizontal intersection-target separation: {np.linalg.norm(inter_points[n_proj, :2] - target_points[n_proj, :2]):.1f} m\")\n",
    "    plotter.add_mesh(intersections[n_proj], color=\"maroon\", point_size=5, label=\"Intersection point\")\n",
    "\n",
    "plotter.add_legend()\n",
    "plotter.show()"
   ]
  }
 ],
 "metadata": {
  "kernelspec": {
   "display_name": "Python 3 (ipykernel)",
   "language": "python",
   "name": "python3"
  },
  "language_info": {
   "codemirror_mode": {
    "name": "ipython",
    "version": 3
   },
   "file_extension": ".py",
   "mimetype": "text/x-python",
   "name": "python",
   "nbconvert_exporter": "python",
   "pygments_lexer": "ipython3",
   "version": "3.11.7"
  }
 },
 "nbformat": 4,
 "nbformat_minor": 5
}
