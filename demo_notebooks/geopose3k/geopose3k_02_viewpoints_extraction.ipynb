{
 "cells": [
  {
   "cell_type": "code",
   "execution_count": 1,
   "metadata": {},
   "outputs": [
    {
     "name": "stderr",
     "output_type": "stream",
     "text": [
      "/tmp/ipykernel_2333061/2351431590.py:2: DeprecationWarning: \n",
      "Pyarrow will become a required dependency of pandas in the next major release of pandas (pandas 3.0),\n",
      "(to allow more performant data types, such as the Arrow string type, and better interoperability with other libraries)\n",
      "but was not found to be installed on your system.\n",
      "If this would cause problems for you,\n",
      "please provide us feedback at https://github.com/pandas-dev/pandas/issues/54466\n",
      "        \n",
      "  import pandas as pd\n"
     ]
    },
    {
     "name": "stdout",
     "output_type": "stream",
     "text": [
      "Jupyter environment detected. Enabling Open3D WebVisualizer.\n",
      "[Open3D INFO] WebRTC GUI backend enabled.\n",
      "[Open3D INFO] WebRTCWindowSystem: HTTP handshake server disabled.\n"
     ]
    }
   ],
   "source": [
    "import numpy as np\n",
    "import pandas as pd\n",
    "import open3d as o3d\n",
    "import os\n",
    "from horizon import load, project, signal\n",
    "# auto reload packages\n",
    "%load_ext autoreload\n",
    "%autoreload 2"
   ]
  },
  {
   "cell_type": "markdown",
   "metadata": {},
   "source": [
    "# Extract viewpoints and skylines from GeoPose3k"
   ]
  },
  {
   "cell_type": "code",
   "execution_count": 2,
   "metadata": {},
   "outputs": [],
   "source": [
    "datadir = '../../data/geopose3k/'\n",
    "viewpoints = pd.read_csv(datadir+'infos.csv')"
   ]
  },
  {
   "cell_type": "code",
   "execution_count": 3,
   "metadata": {},
   "outputs": [
    {
     "data": {
      "text/html": [
       "<div>\n",
       "<style scoped>\n",
       "    .dataframe tbody tr th:only-of-type {\n",
       "        vertical-align: middle;\n",
       "    }\n",
       "\n",
       "    .dataframe tbody tr th {\n",
       "        vertical-align: top;\n",
       "    }\n",
       "\n",
       "    .dataframe thead th {\n",
       "        text-align: right;\n",
       "    }\n",
       "</style>\n",
       "<table border=\"1\" class=\"dataframe\">\n",
       "  <thead>\n",
       "    <tr style=\"text-align: right;\">\n",
       "      <th></th>\n",
       "      <th>id</th>\n",
       "      <th>latitude</th>\n",
       "      <th>longitude</th>\n",
       "      <th>elevation</th>\n",
       "      <th>yaw</th>\n",
       "      <th>pitch</th>\n",
       "      <th>roll</th>\n",
       "      <th>fov</th>\n",
       "    </tr>\n",
       "  </thead>\n",
       "  <tbody>\n",
       "    <tr>\n",
       "      <th>1</th>\n",
       "      <td>28561570606</td>\n",
       "      <td>46.3463</td>\n",
       "      <td>6.84551</td>\n",
       "      <td>1407.0</td>\n",
       "      <td>-0.026613</td>\n",
       "      <td>0.087538</td>\n",
       "      <td>-0.013312</td>\n",
       "      <td>1.153100</td>\n",
       "    </tr>\n",
       "    <tr>\n",
       "      <th>6</th>\n",
       "      <td>eth_ch1_1332166_01024</td>\n",
       "      <td>46.4220</td>\n",
       "      <td>7.40200</td>\n",
       "      <td>1939.0</td>\n",
       "      <td>1.241760</td>\n",
       "      <td>-0.023776</td>\n",
       "      <td>0.036813</td>\n",
       "      <td>0.643872</td>\n",
       "    </tr>\n",
       "    <tr>\n",
       "      <th>9</th>\n",
       "      <td>eth_ch1_2011-10-01_17:13:12_01024</td>\n",
       "      <td>46.5562</td>\n",
       "      <td>7.90146</td>\n",
       "      <td>855.5</td>\n",
       "      <td>-2.091580</td>\n",
       "      <td>0.187911</td>\n",
       "      <td>0.049084</td>\n",
       "      <td>0.939313</td>\n",
       "    </tr>\n",
       "    <tr>\n",
       "      <th>10</th>\n",
       "      <td>eth_ch1_2011-10-01_17:15:04_01024</td>\n",
       "      <td>46.5561</td>\n",
       "      <td>7.90143</td>\n",
       "      <td>856.0</td>\n",
       "      <td>-3.101150</td>\n",
       "      <td>0.665497</td>\n",
       "      <td>0.029063</td>\n",
       "      <td>0.911105</td>\n",
       "    </tr>\n",
       "    <tr>\n",
       "      <th>11</th>\n",
       "      <td>eth_ch1_2011-10-01_17:18:26_01024</td>\n",
       "      <td>46.5561</td>\n",
       "      <td>7.90143</td>\n",
       "      <td>856.0</td>\n",
       "      <td>1.651320</td>\n",
       "      <td>0.396528</td>\n",
       "      <td>0.012251</td>\n",
       "      <td>0.939313</td>\n",
       "    </tr>\n",
       "  </tbody>\n",
       "</table>\n",
       "</div>"
      ],
      "text/plain": [
       "                                   id  latitude  longitude  elevation  \\\n",
       "1                         28561570606   46.3463    6.84551     1407.0   \n",
       "6               eth_ch1_1332166_01024   46.4220    7.40200     1939.0   \n",
       "9   eth_ch1_2011-10-01_17:13:12_01024   46.5562    7.90146      855.5   \n",
       "10  eth_ch1_2011-10-01_17:15:04_01024   46.5561    7.90143      856.0   \n",
       "11  eth_ch1_2011-10-01_17:18:26_01024   46.5561    7.90143      856.0   \n",
       "\n",
       "         yaw     pitch      roll       fov  \n",
       "1  -0.026613  0.087538 -0.013312  1.153100  \n",
       "6   1.241760 -0.023776  0.036813  0.643872  \n",
       "9  -2.091580  0.187911  0.049084  0.939313  \n",
       "10 -3.101150  0.665497  0.029063  0.911105  \n",
       "11  1.651320  0.396528  0.012251  0.939313  "
      ]
     },
     "execution_count": 3,
     "metadata": {},
     "output_type": "execute_result"
    }
   ],
   "source": [
    "# restrict to small lat and lon ranges to compute faster (this is a test, for whole dataset split in chunks)\n",
    "viewpoints = viewpoints[(viewpoints['longitude']<8) & (viewpoints['latitude']<47)]\n",
    "viewpoints.head()"
   ]
  },
  {
   "cell_type": "code",
   "execution_count": 4,
   "metadata": {},
   "outputs": [],
   "source": [
    "# lat lon to np array\n",
    "np_viewpoints = viewpoints[['latitude', 'longitude']].to_numpy()\n",
    "# extract boundaries\n",
    "bounds = [np_viewpoints[:,0].min(), np_viewpoints[:,1].min(), np_viewpoints[:,0].max(), np_viewpoints[:,1].max()]\n",
    "# project to EPSG:2056 (switzerland)\n",
    "np_viewpoints = project.array_to_xy(np_viewpoints, epsg='2056')"
   ]
  },
  {
   "cell_type": "code",
   "execution_count": 5,
   "metadata": {},
   "outputs": [],
   "source": [
    "# def get_ids_to_filter(dist_matrix, threshold):\n",
    "#     args = np.argwhere((dist_matrix<threshold) & (dist_matrix!=0))[:,0]\n",
    "#     args = np.unique(args)\n",
    "#     return args"
   ]
  },
  {
   "cell_type": "code",
   "execution_count": 6,
   "metadata": {},
   "outputs": [],
   "source": [
    "# # compute distance between each pair of points\n",
    "# dist_matrix = project.distance_points_points(np_viewpoints, np_viewpoints)\n",
    "# # remove points closer than 5km to another\n",
    "# to_remove = get_ids_to_filter(dist_matrix, 5000)\n",
    "# np_viewpoints = np.delete(np_viewpoints, to_remove, axis=0)\n",
    "# print('Number of viewpoints :', len(np_viewpoints))\n",
    "# # same for indexes\n",
    "# indexes = viewpoints['id'].to_numpy()\n",
    "# indexes = np.delete(indexes, to_remove, axis=0)"
   ]
  },
  {
   "cell_type": "code",
   "execution_count": 7,
   "metadata": {},
   "outputs": [
    {
     "data": {
      "text/plain": [
       "<matplotlib.collections.PathCollection at 0x7577b2fbdc50>"
      ]
     },
     "execution_count": 7,
     "metadata": {},
     "output_type": "execute_result"
    },
    {
     "data": {
      "image/png": "[encoded data removed]",
      "text/plain": [
       "<Figure size 640x480 with 1 Axes>"
      ]
     },
     "metadata": {},
     "output_type": "display_data"
    }
   ],
   "source": [
    "import matplotlib.pyplot as plt\n",
    "plt.scatter(np_viewpoints[:,0], np_viewpoints[:,1])"
   ]
  },
  {
   "cell_type": "markdown",
   "metadata": {},
   "source": [
    "## Download terrain data"
   ]
  },
  {
   "cell_type": "code",
   "execution_count": 8,
   "metadata": {},
   "outputs": [],
   "source": [
    "terrain_data = \"../../data/terrain/geopose3k/\"\n",
    "horizon_data = \"../../data/horizon/geopose3k/\"\n",
    "place_name = \"Alps_test\"\n",
    "n=5\n",
    "margin_distance=50"
   ]
  },
  {
   "cell_type": "code",
   "execution_count": 9,
   "metadata": {},
   "outputs": [
    {
     "data": {
      "text/plain": [
       "[6.521457160566365, 45.8004977499775, 8.318565919855534, 47.168202250022496]"
      ]
     },
     "execution_count": 9,
     "metadata": {},
     "output_type": "execute_result"
    }
   ],
   "source": [
    "bounds[:2] = load.bounds_from_distance(bounds[0], bounds[1], margin_distance)[:2]\n",
    "bounds[2:] = load.bounds_from_distance(bounds[2], bounds[3], margin_distance)[2:]\n",
    "bounds"
   ]
  },
  {
   "cell_type": "code",
   "execution_count": 10,
   "metadata": {},
   "outputs": [],
   "source": [
    "if not os.path.exists(terrain_data+place_name+'.xyz'):\n",
    "    load.download_from_eio(terrain_data, place_name, bounds=bounds, epsg='2056')\n",
    "pc = o3d.io.read_point_cloud(terrain_data+place_name+'.xyz')"
   ]
  },
  {
   "cell_type": "code",
   "execution_count": 11,
   "metadata": {},
   "outputs": [],
   "source": [
    "o3d.visualization.draw_geometries([pc])"
   ]
  },
  {
   "cell_type": "markdown",
   "metadata": {},
   "source": [
    "## Extract skyline for each viewpoint"
   ]
  },
  {
   "cell_type": "code",
   "execution_count": 12,
   "metadata": {},
   "outputs": [],
   "source": [
    "def crop_pc(pc, view_point, distance=50_000):\n",
    "    bbox = o3d.geometry.AxisAlignedBoundingBox(min_bound=(view_point[0]-distance, view_point[1]-distance, -1000), \n",
    "                                            max_bound=(view_point[0]+distance, view_point[1]+distance, 5000))\n",
    "    return pc.crop(bbox)"
   ]
  },
  {
   "cell_type": "code",
   "execution_count": 13,
   "metadata": {},
   "outputs": [],
   "source": [
    "def get_viewpoint_altitude(pc, view_point):\n",
    "    terrain_points = np.asarray(pc.points)\n",
    "    closest = project.closest_point(terrain_points[:,0:2], view_point[:2])\n",
    "    view_point = np.append(view_point,  terrain_points[closest][2] + 3) # add 3m to not be at ground level\n",
    "    return view_point"
   ]
  },
  {
   "cell_type": "code",
   "execution_count": 130,
   "metadata": {},
   "outputs": [
    {
     "data": {
      "image/png": "[encoded data removed]",
      "text/html": [
       "<div style=\"vertical-align: middle;\"><strong>copper</strong> </div><div class=\"cmap\"><img alt=\"copper colormap\" title=\"copper\" style=\"border: 1px solid #555;\" src=\"data:image/png;base64,iVBORw0KGgoAAAANSUhEUgAAAgAAAABACAYAAABsv8+/AAAAFXRFWHRUaXRsZQBjb3BwZXIgY29sb3JtYXAH6kiwAAAAG3RFWHREZXNjcmlwdGlvbgBjb3BwZXIgY29sb3JtYXBOfVBUAAAAMHRFWHRBdXRob3IATWF0cGxvdGxpYiB2My44LjIsIGh0dHBzOi8vbWF0cGxvdGxpYi5vcmcPFd4SAAAAMnRFWHRTb2Z0d2FyZQBNYXRwbG90bGliIHYzLjguMiwgaHR0cHM6Ly9tYXRwbG90bGliLm9yZyGzQTUAAAFDSURBVHic7dYxEcMADARBORBcOxMCNn94CYuouF0E0nxzx8x8J+y+zu0TVj31/9/x/+2/fcKqT3z/ie//2j4AAPg/AQAAQQIAAIIEAAAECQAACBIAABAkAAAgSAAAQJAAAIAgAQAAQQIAAIIEAAAECQAACBIAABAkAAAgSAAAQJAAAIAgAQAAQQIAAIIEAAAECQAACBIAABAkAAAgSAAAQJAAAIAgAQAAQQIAAIIEAAAECQAACBIAABAkAAAgSAAAQJAAAIAgAQAAQQIAAIIEAAAECQAACBIAABAkAAAgSAAAQJAAAIAgAQAAQQIAAIIEAAAECQAACBIAABAkAAAgSAAAQJAAAIAgAQAAQQIAAIIEAAAECQAACBIAABAkAAAgSAAAQJAAAIAgAQAAQQIAAIIEAAAECQAACBIAABAkAAAg6AfO/QPDyPcEzQAAAABJRU5ErkJggg==\"></div><div style=\"vertical-align: middle; max-width: 514px; display: flex; justify-content: space-between;\"><div style=\"float: left;\"><div title=\"#000000ff\" style=\"display: inline-block; width: 1em; height: 1em; margin: 0; vertical-align: middle; border: 1px solid #555; background-color: #000000ff;\"></div> under</div><div style=\"margin: 0 auto; display: inline-block;\">bad <div title=\"#00000000\" style=\"display: inline-block; width: 1em; height: 1em; margin: 0; vertical-align: middle; border: 1px solid #555; background-color: #00000000;\"></div></div><div style=\"float: right;\">over <div title=\"#ffc77fff\" style=\"display: inline-block; width: 1em; height: 1em; margin: 0; vertical-align: middle; border: 1px solid #555; background-color: #ffc77fff;\"></div></div>"
      ],
      "text/plain": [
       "<matplotlib.colors.LinearSegmentedColormap at 0x757778bfd4d0>"
      ]
     },
     "execution_count": 130,
     "metadata": {},
     "output_type": "execute_result"
    }
   ],
   "source": [
    "# colormap\n",
    "plt.get_cmap('copper', 8)"
   ]
  },
  {
   "cell_type": "code",
   "execution_count": null,
   "metadata": {},
   "outputs": [],
   "source": [
    "# for each viewpoint\n",
    "for i, index in enumerate(viewpoints['id']):\n",
    "    # get the viewpoint (2D) coordinates and id\n",
    "    name = str(index)\n",
    "    view_point = np_viewpoints[i]\n",
    "    # download and process data if unknown\n",
    "    if not os.path.exists(horizon_data+name+'.npy'):\n",
    "        # crop terrain data\n",
    "        cropped_pc = crop_pc(pc, view_point)\n",
    "        # get view point altitude\n",
    "        view_point = get_viewpoint_altitude(cropped_pc, view_point)\n",
    "        # extract skyline\n",
    "        spherical = project.array_cartesian_to_spherical(cropped_pc.points, view_point)\n",
    "        angles = project.get_deg_angles(spherical)\n",
    "        skyline = project.get_skyline(angles, savepath=horizon_data+name)\n",
    "        depths = project.skyline_depth(spherical, angles, skyline, savepath=horizon_data+name+'_depth')\n",
    "    # otherwise, load directly from files\n",
    "    else:\n",
    "        skyline = np.load(horizon_data+name+'.npy').astype(float)\n",
    "        depths = np.load(horizon_data+name+'_depth'+'.npy').astype(float)\n",
    "\n",
    "    # display skyline\n",
    "    smooth_skyline = signal.smooth_with_depth(skyline, depths)\n",
    "    signal.plot_skyline(smooth_skyline, 'Skyline '+name)\n",
    "    #signal.plot_skyline(smooth_skyline, 'Skyline '+name, depths=depths)"
   ]
  }
 ],
 "metadata": {
  "kernelspec": {
   "display_name": "geo",
   "language": "python",
   "name": "python3"
  },
  "language_info": {
   "codemirror_mode": {
    "name": "ipython",
    "version": 3
   },
   "file_extension": ".py",
   "mimetype": "text/x-python",
   "name": "python",
   "nbconvert_exporter": "python",
   "pygments_lexer": "ipython3",
   "version": "3.11.7"
  }
 },
 "nbformat": 4,
 "nbformat_minor": 2
}
