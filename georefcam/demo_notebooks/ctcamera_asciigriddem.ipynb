{
 "cells": [
  {
   "cell_type": "markdown",
   "id": "a91982db-a472-4040-87f5-6161a22c18bd",
   "metadata": {},
   "source": [
    "### Ce notebook présente la création d'un système de géoréférencement à l'aide du package `georefcam`. Il utilise en particulier un DEM issu d'un fichier ASCII grid et un modèle de caméra basé sur le package `cameratransform`."
   ]
  },
  {
   "cell_type": "code",
   "execution_count": 1,
   "id": "9fde503f-9796-4977-ad07-17ef48b24f91",
   "metadata": {},
   "outputs": [],
   "source": [
    "%matplotlib widget\n",
    "import geopandas as gpd\n",
    "import logging\n",
    "import numpy as np\n",
    "import pickle\n",
    "import pandas as pd\n",
    "import pyvista as pv\n",
    "\n",
    "from georefcam.camera_model import CTCameraModel\n",
    "from georefcam.dem import ASCIIGridDEM\n",
    "from georefcam.georefcam import GeoRefCam, project_points_to_crs\n",
    "from pathlib import Path\n",
    "from PIL import Image\n",
    "\n",
    "# logging.basicConfig(level=logging.DEBUG)"
   ]
  },
  {
   "cell_type": "markdown",
   "id": "21c408db-78e2-442b-88a4-ca4946e2fb9a",
   "metadata": {},
   "source": [
    "# Définition des dossiers contenant les données nécessaires à l'exécution du notebook (À ÉDITER)"
   ]
  },
  {
   "cell_type": "code",
   "execution_count": 2,
   "id": "42d23b49-4da0-4a59-86dc-2530bec72db7",
   "metadata": {},
   "outputs": [],
   "source": [
    "carto_dir = Path(\"/home/florent/git_repos/d4g/pyronear/explo/cartos/BDALTIV2_2-0_25M_ASC_LAMB93-IGN69_D007_2022-12-16/BDALTIV2\")\n",
    "camdata_dir = Path(\"/home/florent/git_repos/d4g/pyronear/explo/pyronear_cam_data\")\n",
    "donnees_dir = Path(\"1_DONNEES_LIVRAISON_2023-01-00224/BDALTIV2_MNT_25M_ASC_LAMB93_IGN69_D007\")\n",
    "dalles_dir = Path(\"3_SUPPLEMENTS_LIVRAISON_2023-01-00224/BDALTIV2_MNT_25M_ASC_LAMB93_IGN69_D007/\")\n",
    "\n",
    "cam_name = \"brison_4\"\n",
    "test_img_name = \"pyronear_brison_4_2023_07_04T06_07_57.jpg\"\n",
    "gcp_filepath = \"../df_annotations.csv\""
   ]
  },
  {
   "cell_type": "markdown",
   "id": "8866aa72-4862-413c-8c8c-04702389e6ef",
   "metadata": {},
   "source": [
    "# Récupération des données de localisation/orientation de la caméra"
   ]
  },
  {
   "cell_type": "markdown",
   "id": "bbb5f35d-15ca-4467-8540-204bf20c5d31",
   "metadata": {},
   "source": [
    "Création d'un geodataframe des dalles dans la carto contenant une caméra (problème si les dalles recherchées sont à cheval sur deux cartos, cas relativement improbable d'une caméra couvrant la bordure entre deux départements) :"
   ]
  },
  {
   "cell_type": "code",
   "execution_count": 3,
   "id": "839f6aea-675b-4542-b92e-79ab206ea3e9",
   "metadata": {},
   "outputs": [],
   "source": [
    "dalles_shape_file = Path(\"dalles.shp\")\n",
    "gdf_dalles = gpd.read_file(carto_dir / dalles_dir / dalles_shape_file)"
   ]
  },
  {
   "cell_type": "markdown",
   "id": "ca646c47-b65f-4c74-b6fe-dbbe5529951c",
   "metadata": {},
   "source": [
    "Création d'un geodataframe des caméras utilisées à l'aide du fichier de référence 'API_DATA - devices.csv' :"
   ]
  },
  {
   "cell_type": "code",
   "execution_count": 4,
   "id": "c398804f-e8a3-4488-91fc-622f033aed14",
   "metadata": {},
   "outputs": [],
   "source": [
    "cam_file = camdata_dir / \"API_DATA - devices.csv\"\n",
    "df_cams = pd.read_csv(cam_file)\n",
    "gdf_cams = gpd.GeoDataFrame(geometry=gpd.points_from_xy(df_cams.lon, df_cams.lat, crs=\"WGS84\"), data=df_cams)"
   ]
  },
  {
   "cell_type": "markdown",
   "id": "4ff15acc-2550-4111-bdf7-c5534d15d9b9",
   "metadata": {},
   "source": [
    "Sélection d'une caméra et récupération de ses informations, sélection du fichier de dalle contenant sa localisation"
   ]
  },
  {
   "cell_type": "code",
   "execution_count": 5,
   "id": "d24f9d3e-9608-471c-889c-2ab33a76f401",
   "metadata": {},
   "outputs": [],
   "source": [
    "cam_info = gdf_cams[gdf_cams.login == cam_name].squeeze()\n",
    "test_img_path = camdata_dir / cam_name / test_img_name\n",
    "test_img = Image.open(test_img_path)\n",
    "test_img_res = test_img.size\n",
    "\n",
    "gdf_dalles_wgs84 = gdf_dalles.to_crs(\"WGS84\")\n",
    "dalle_cam = gdf_dalles[gdf_dalles_wgs84.geometry.contains(cam_info.geometry)].squeeze()\n",
    "nom_dalle = dalle_cam.NOM_DALLE\n",
    "dalle_file = carto_dir / donnees_dir / Path(f\"{nom_dalle}.asc\")"
   ]
  },
  {
   "cell_type": "markdown",
   "id": "42a804da-5d77-4b0d-aa61-4f0c715666b7",
   "metadata": {},
   "source": [
    "# Création d'une caméra géoréférencée avec `georefcam`"
   ]
  },
  {
   "cell_type": "markdown",
   "id": "4bba31cd-1fc1-4032-97a2-010c772deee0",
   "metadata": {},
   "source": [
    "Création d'un DEM avec `ASCIIGridDEM`"
   ]
  },
  {
   "cell_type": "code",
   "execution_count": 6,
   "id": "c66e8ec0-555b-4988-8a98-e7da7acd3b6f",
   "metadata": {},
   "outputs": [],
   "source": [
    "dem = ASCIIGridDEM(dalle_file, gdf_dalles.crs)\n",
    "dem.build_pcd(sample_step=1)\n",
    "dem.build_mesh()"
   ]
  },
  {
   "cell_type": "markdown",
   "id": "cfebe56f-dc3c-449c-b239-a382d61ccf80",
   "metadata": {},
   "source": [
    "Sauvegarde du DEM en cas de crash du kernel (il peut aussi facilement être recréé à l'aide des cellules précédentes)"
   ]
  },
  {
   "cell_type": "code",
   "execution_count": 7,
   "id": "28f83be0-a5bb-4f00-b223-dc7d3ba9e5ab",
   "metadata": {},
   "outputs": [],
   "source": [
    "with open(\"dem_asc.pkl\", \"wb\") as f:\n",
    "    pickle.dump(dem, f)"
   ]
  },
  {
   "cell_type": "markdown",
   "id": "cbb8edff-e7e5-48a5-976b-7dfa8fe84033",
   "metadata": {},
   "source": [
    "Création d'un modèle de caméra orientée et localisée avec `CTCameraModel`"
   ]
  },
  {
   "cell_type": "code",
   "execution_count": 8,
   "id": "c16e5c83-7c16-40b1-b67a-98a1525bec45",
   "metadata": {},
   "outputs": [],
   "source": [
    "device_params = {\"image\": test_img_res, \"view_x_deg\": 87, \"view_y_deg\": 44}\n",
    "ypr_orientation_params = {\"elevation_m\": cam_info.elevation, \"pitch_deg\": cam_info.pitch, \"roll_deg\": 0, \"yaw_deg\": cam_info.azimuth}\n",
    "location_params = {\"lat\": cam_info.lat, \"lon\": cam_info.lon, \"alt\": cam_info.elevation}\n",
    "\n",
    "cam_model = CTCameraModel(device_params, ypr_orientation_params, location_params)"
   ]
  },
  {
   "cell_type": "markdown",
   "id": "e70283a3-8677-445a-930b-26f0299e057d",
   "metadata": {},
   "source": [
    "Création du modèle de caméra géoréférencée"
   ]
  },
  {
   "cell_type": "code",
   "execution_count": 9,
   "id": "80876410-21fe-4bdd-9d06-bdc3d3730bdd",
   "metadata": {},
   "outputs": [],
   "source": [
    "geocam = GeoRefCam(cam_model, dem)"
   ]
  },
  {
   "cell_type": "markdown",
   "id": "fa25dbcb-e726-41ed-acc0-1614e2316b91",
   "metadata": {},
   "source": [
    "# Évaluation de la projection d'un ensemble de GCP"
   ]
  },
  {
   "cell_type": "code",
   "execution_count": 10,
   "id": "7f171d40-286b-4b27-8dfb-1a705e962090",
   "metadata": {},
   "outputs": [
    {
     "data": {
      "text/html": [
       "<div>\n",
       "<style scoped>\n",
       "    .dataframe tbody tr th:only-of-type {\n",
       "        vertical-align: middle;\n",
       "    }\n",
       "\n",
       "    .dataframe tbody tr th {\n",
       "        vertical-align: top;\n",
       "    }\n",
       "\n",
       "    .dataframe thead th {\n",
       "        text-align: right;\n",
       "    }\n",
       "</style>\n",
       "<table border=\"1\" class=\"dataframe\">\n",
       "  <thead>\n",
       "    <tr style=\"text-align: right;\">\n",
       "      <th></th>\n",
       "      <th>Unnamed: 0</th>\n",
       "      <th>posx</th>\n",
       "      <th>posy</th>\n",
       "      <th>lat</th>\n",
       "      <th>lon</th>\n",
       "      <th>alt</th>\n",
       "      <th>geometry</th>\n",
       "    </tr>\n",
       "  </thead>\n",
       "  <tbody>\n",
       "    <tr>\n",
       "      <th>0</th>\n",
       "      <td>0</td>\n",
       "      <td>651</td>\n",
       "      <td>328</td>\n",
       "      <td>44.609620</td>\n",
       "      <td>4.098371</td>\n",
       "      <td>1448.0</td>\n",
       "      <td>POINT Z (4.09837 44.60962 1448.00000)</td>\n",
       "    </tr>\n",
       "    <tr>\n",
       "      <th>1</th>\n",
       "      <td>1</td>\n",
       "      <td>789</td>\n",
       "      <td>319</td>\n",
       "      <td>44.612899</td>\n",
       "      <td>4.126470</td>\n",
       "      <td>1458.0</td>\n",
       "      <td>POINT Z (4.12647 44.61290 1458.00000)</td>\n",
       "    </tr>\n",
       "    <tr>\n",
       "      <th>2</th>\n",
       "      <td>2</td>\n",
       "      <td>978</td>\n",
       "      <td>409</td>\n",
       "      <td>44.577702</td>\n",
       "      <td>4.188103</td>\n",
       "      <td>643.0</td>\n",
       "      <td>POINT Z (4.18810 44.57770 643.00000)</td>\n",
       "    </tr>\n",
       "    <tr>\n",
       "      <th>3</th>\n",
       "      <td>3</td>\n",
       "      <td>1190</td>\n",
       "      <td>310</td>\n",
       "      <td>44.612280</td>\n",
       "      <td>4.185187</td>\n",
       "      <td>1316.0</td>\n",
       "      <td>POINT Z (4.18519 44.61228 1316.00000)</td>\n",
       "    </tr>\n",
       "  </tbody>\n",
       "</table>\n",
       "</div>"
      ],
      "text/plain": [
       "   Unnamed: 0  posx  posy        lat       lon     alt  \\\n",
       "0           0   651   328  44.609620  4.098371  1448.0   \n",
       "1           1   789   319  44.612899  4.126470  1458.0   \n",
       "2           2   978   409  44.577702  4.188103   643.0   \n",
       "3           3  1190   310  44.612280  4.185187  1316.0   \n",
       "\n",
       "                                geometry  \n",
       "0  POINT Z (4.09837 44.60962 1448.00000)  \n",
       "1  POINT Z (4.12647 44.61290 1458.00000)  \n",
       "2   POINT Z (4.18810 44.57770 643.00000)  \n",
       "3  POINT Z (4.18519 44.61228 1316.00000)  "
      ]
     },
     "execution_count": 10,
     "metadata": {},
     "output_type": "execute_result"
    }
   ],
   "source": [
    "df_annot_gcp = pd.read_csv(gcp_filepath)\n",
    "df_annot_gcp = df_annot_gcp.rename({\"ele\": \"alt\"}, axis=1).astype({\"posx\": int, \"posy\": int, \"lat\": float, \"lon\": float, \"alt\": float})\n",
    "df_annot_gcp\n",
    "gdf_annot_gcp = gpd.GeoDataFrame(df_annot_gcp, geometry=gpd.points_from_xy(df_annot_gcp.lon, df_annot_gcp.lat, df_annot_gcp.alt), crs=\"WGS84\")\n",
    "gdf_annot_gcp"
   ]
  },
  {
   "cell_type": "markdown",
   "id": "2b078f70-e789-4c29-ab92-aec5bf81007d",
   "metadata": {},
   "source": [
    "Sélection d'un ensemble de GCPs et génération de leurs rayons de projection dans le repère monde"
   ]
  },
  {
   "cell_type": "code",
   "execution_count": 11,
   "id": "9b0cbedc-c5a4-4309-bed8-fa2dddb4482d",
   "metadata": {},
   "outputs": [
    {
     "data": {
      "text/plain": [
       "array([[[ 44.54515457,  44.67704565],\n",
       "        [  4.21653414,   4.14014126],\n",
       "        [780.        ,   0.        ]]])"
      ]
     },
     "execution_count": 11,
     "metadata": {},
     "output_type": "execute_result"
    }
   ],
   "source": [
    "test_gcp_idx = 2\n",
    "pixel_points = gdf_annot_gcp.loc[test_gcp_idx, [\"posx\", \"posy\"]]\n",
    "# pixel_points = gdf_annot_gcp[[\"posx\", \"posy\"]]\n",
    "\n",
    "rays = geocam.camera_model.project_pixel_points_to_world_rays(pixel_points)\n",
    "rays"
   ]
  },
  {
   "cell_type": "markdown",
   "id": "bbb8c04a-87f0-4f6a-8fdc-56f91edf5ad0",
   "metadata": {},
   "source": [
    "Calcul de l'intersection entre les rayons et le MNT"
   ]
  },
  {
   "cell_type": "code",
   "execution_count": 12,
   "id": "2642b26d-631b-4084-986e-2279a67aac42",
   "metadata": {},
   "outputs": [
    {
     "data": {
      "text/html": [
       "<div>\n",
       "<style scoped>\n",
       "    .dataframe tbody tr th:only-of-type {\n",
       "        vertical-align: middle;\n",
       "    }\n",
       "\n",
       "    .dataframe tbody tr th {\n",
       "        vertical-align: top;\n",
       "    }\n",
       "\n",
       "    .dataframe thead th {\n",
       "        text-align: right;\n",
       "    }\n",
       "</style>\n",
       "<table border=\"1\" class=\"dataframe\">\n",
       "  <thead>\n",
       "    <tr style=\"text-align: right;\">\n",
       "      <th></th>\n",
       "      <th>ori_x</th>\n",
       "      <th>ori_y</th>\n",
       "      <th>ori_z</th>\n",
       "      <th>dest_x</th>\n",
       "      <th>dest_y</th>\n",
       "      <th>dest_z</th>\n",
       "      <th>inter_x</th>\n",
       "      <th>inter_y</th>\n",
       "      <th>inter_z</th>\n",
       "      <th>n_tri</th>\n",
       "      <th>dist_o</th>\n",
       "    </tr>\n",
       "    <tr>\n",
       "      <th>n_ray</th>\n",
       "      <th></th>\n",
       "      <th></th>\n",
       "      <th></th>\n",
       "      <th></th>\n",
       "      <th></th>\n",
       "      <th></th>\n",
       "      <th></th>\n",
       "      <th></th>\n",
       "      <th></th>\n",
       "      <th></th>\n",
       "      <th></th>\n",
       "    </tr>\n",
       "  </thead>\n",
       "  <tbody>\n",
       "    <tr>\n",
       "      <th>0</th>\n",
       "      <td>796636.658666</td>\n",
       "      <td>6.383642e+06</td>\n",
       "      <td>780.0</td>\n",
       "      <td>790357.216371</td>\n",
       "      <td>6.398201e+06</td>\n",
       "      <td>0.0</td>\n",
       "      <td>794739.0</td>\n",
       "      <td>6388042.0</td>\n",
       "      <td>544.282532</td>\n",
       "      <td>1579133</td>\n",
       "      <td>4797.258904</td>\n",
       "    </tr>\n",
       "  </tbody>\n",
       "</table>\n",
       "</div>"
      ],
      "text/plain": [
       "               ori_x         ori_y  ori_z         dest_x        dest_y  \\\n",
       "n_ray                                                                    \n",
       "0      796636.658666  6.383642e+06  780.0  790357.216371  6.398201e+06   \n",
       "\n",
       "       dest_z   inter_x    inter_y     inter_z    n_tri       dist_o  \n",
       "n_ray                                                                 \n",
       "0         0.0  794739.0  6388042.0  544.282532  1579133  4797.258904  "
      ]
     },
     "execution_count": 12,
     "metadata": {},
     "output_type": "execute_result"
    }
   ],
   "source": [
    "filtered_inter_points, filtered_inter_triangles, df_ray = geocam.cast_rays(\n",
    "                rays, check_crs=True, min_d_intersection_m=50, return_df_ray=True, cast_method=\"seq\", max_cp_time_s=30)\n",
    "\n",
    "df_ray"
   ]
  },
  {
   "cell_type": "markdown",
   "id": "62ba723f-0301-4238-9e9b-76b0816146bd",
   "metadata": {},
   "source": [
    "Sauvegarde des résultats (si le kernel crashe, charger les pickle dans un autre notebook et y exécuter la cellule de plot)"
   ]
  },
  {
   "cell_type": "code",
   "execution_count": 13,
   "id": "421c6bd2-8b2d-481d-bbc6-ee0be280abc4",
   "metadata": {},
   "outputs": [],
   "source": [
    "with open(\"asc_ctcam_proj.pkl\", \"wb\") as f:\n",
    "    pickle.dump([df_ray, gdf_annot_gcp, gdf_dalles, test_gcp_idx], f)"
   ]
  },
  {
   "cell_type": "markdown",
   "id": "27b36d8c-0a6c-478c-b4fa-316d00b5e7e4",
   "metadata": {},
   "source": [
    "Récupération des coordonnées GPS du point d'intersection"
   ]
  },
  {
   "cell_type": "code",
   "execution_count": 14,
   "id": "e47472ee-1d1a-4dd0-a31b-f8113e9f1f20",
   "metadata": {},
   "outputs": [
    {
     "data": {
      "text/plain": [
       "array([[ 44.58501817,   4.19348575, 544.28253174]])"
      ]
     },
     "execution_count": 14,
     "metadata": {},
     "output_type": "execute_result"
    }
   ],
   "source": [
    "project_points_to_crs(df_ray.loc[0, [\"inter_x\", \"inter_y\", \"inter_z\"]].to_numpy(), dem.crs, \"wgs84\")"
   ]
  },
  {
   "cell_type": "markdown",
   "id": "70cd8092-923d-4e4f-87f8-123d0b6e439b",
   "metadata": {},
   "source": [
    "Plot de la projection"
   ]
  },
  {
   "cell_type": "code",
   "execution_count": 15,
   "id": "c4b7b75e-e3c9-460b-aa17-78312161ad9c",
   "metadata": {},
   "outputs": [
    {
     "data": {
      "application/vnd.jupyter.widget-view+json": {
       "model_id": "e99fb8ab8a4b40178bdb17f81411106d",
       "version_major": 2,
       "version_minor": 0
      },
      "text/plain": [
       "Widget(value='<iframe src=\"http://localhost:40331/index.html?ui=P_0x7701dafaf550_0&reconnect=auto\" class=\"pyvi…"
      ]
     },
     "metadata": {},
     "output_type": "display_data"
    }
   ],
   "source": [
    "plot_margin_m = 1000\n",
    "\n",
    "alts_meshgrid = dem.pcd\n",
    "\n",
    "target_point = np.array(list(gdf_annot_gcp.to_crs(gdf_dalles.crs).loc[test_gcp_idx, \"geometry\"].coords)[0])\n",
    "origin = df_ray.loc[0, [\"ori_x\", \"ori_y\", \"ori_z\"]].to_numpy(dtype=float)\n",
    "destination = df_ray.loc[0, [\"dest_x\", \"dest_y\", \"dest_z\"]].to_numpy(dtype=float)\n",
    "inter_point = df_ray.loc[0, [\"inter_x\", \"inter_y\", \"inter_z\"]].to_numpy(dtype=float)\n",
    "\n",
    "intersection_found = ~np.isnan(inter_point[0])\n",
    "\n",
    "if intersection_found:\n",
    "    points_of_interest = np.vstack((target_point, origin, inter_point))\n",
    "else:\n",
    "    points_of_interest = np.vstack((target_point, origin))\n",
    "(x_min, y_min, _) = points_of_interest.min(axis=0) - plot_margin_m\n",
    "(x_max, y_max, _) = points_of_interest.max(axis=0) + plot_margin_m\n",
    "\n",
    "zone_mask_idx = np.vstack(((alts_meshgrid[:, :, 0] > x_min) & (alts_meshgrid[:, :, 0] < x_max) & (alts_meshgrid[:, :, 1] > y_min) & (alts_meshgrid[:, :, 1] < y_max)).nonzero())\n",
    "x_min_idx, y_min_idx = zone_mask_idx.min(axis=1)\n",
    "x_max_idx, y_max_idx = zone_mask_idx.max(axis=1)\n",
    "# plot_meshgrid = alts_meshgrid[x_min_idx:x_max_idx, y_min_idx:y_max_idx, :]\n",
    "plot_meshgrid = alts_meshgrid\n",
    "\n",
    "plot_pv_meshgrid = pv.StructuredGrid(*[plot_meshgrid[:, :, i] for i in range(3)])\n",
    "plot_pv_meshgrid[\"alt\"] = plot_meshgrid[:, :, 2].ravel(order=\"F\")  # add the altitude as a scalar field in order to plot it as a colormap\n",
    "\n",
    "bar_height_m = round(max(abs(alts_meshgrid[0, x_max_idx, 0] - alts_meshgrid[0, x_min_idx, 0]), abs(alts_meshgrid[y_max_idx, 0, 1] - alts_meshgrid[y_min_idx, 0, 1])) / 10)\n",
    "target_plumb_line = pv.Line(target_point, target_point + np.array([0, 0, bar_height_m]))\n",
    "camera_plumb_line = pv.Line(origin, origin + np.array([0, 0, bar_height_m]))\n",
    "if intersection_found:\n",
    "    intersection_plumb_line = pv.Line(inter_point, inter_point + np.array([0, 0, bar_height_m]))\n",
    "    ray_cut = pv.Line(origin, inter_point)\n",
    "    target_inter_separation_line = pv.Line([target_point[0], target_point[1], max(target_point[2], inter_point[2])], [inter_point[0], inter_point[1], max(target_point[2], inter_point[2])])\n",
    "    intersection = pv.PolyData(inter_point)\n",
    "else:\n",
    "    ray_cut = pv.Line(origin, destination)\n",
    "\n",
    "plotter = pv.Plotter()\n",
    "plotter.add_mesh(plot_pv_meshgrid, smooth_shading=True, specular=0.5, specular_power=15)\n",
    "\n",
    "plotter.add_mesh(camera_plumb_line, color=\"red\", line_width=2, opacity=1, label=\"camera plumb line\")\n",
    "plotter.add_mesh(ray_cut, color=\"orange\", line_width=2, opacity=1, label=\"ray segment\")\n",
    "plotter.add_mesh(target_plumb_line, color=\"yellow\", line_width=2, opacity=1, label=\"target plumb line\")\n",
    "if intersection_found:\n",
    "    plotter.add_mesh(intersection_plumb_line, color=\"lightgreen\", line_width=2, opacity=1, label=\"intersection point plumb line\")\n",
    "    plotter.add_mesh(target_inter_separation_line, color=\"cyan\", line_width=2, opacity=1,\n",
    "                     label=f\"horizontal intersection-target separation: {np.linalg.norm(inter_point[:2] - target_point[:2]):.1f} m\")\n",
    "    plotter.add_mesh(intersection, color=\"maroon\", point_size=5, label=\"intersection point\")\n",
    "plotter.add_legend()\n",
    "plotter.show()"
   ]
  },
  {
   "cell_type": "code",
   "execution_count": null,
   "id": "0d4bbc9b-18f9-4a1e-b61d-face95de464a",
   "metadata": {},
   "outputs": [],
   "source": []
  }
 ],
 "metadata": {
  "kernelspec": {
   "display_name": "Python 3 (ipykernel)",
   "language": "python",
   "name": "python3"
  },
  "language_info": {
   "codemirror_mode": {
    "name": "ipython",
    "version": 3
   },
   "file_extension": ".py",
   "mimetype": "text/x-python",
   "name": "python",
   "nbconvert_exporter": "python",
   "pygments_lexer": "ipython3",
   "version": "3.10.12"
  }
 },
 "nbformat": 4,
 "nbformat_minor": 5
}
