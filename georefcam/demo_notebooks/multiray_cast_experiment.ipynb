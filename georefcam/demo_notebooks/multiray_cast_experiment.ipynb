{
 "cells": [
  {
   "cell_type": "markdown",
   "id": "5e663f33-c033-4165-aa08-695c6be7ee99",
   "metadata": {},
   "source": [
    "### Ce notebook présente la création d'un modèle de caméra géoréférencée pour la géolocalisation de points d'intérêt dans l'image. Il réalise également un benchmark du runtime de la projection de multiple points sur des MNT de taille variée, à l'aide de méthodes séquentielles et vectorielles."
   ]
  },
  {
   "cell_type": "code",
   "execution_count": 1,
   "id": "b65ce3f3-9374-4fd7-bc81-b7e149e8fa77",
   "metadata": {},
   "outputs": [],
   "source": [
    "%matplotlib widget\n",
    "import geopandas as gpd\n",
    "import logging\n",
    "import matplotlib.pyplot as plt\n",
    "import numpy as np\n",
    "import pickle\n",
    "import pandas as pd\n",
    "import pyvista as pv\n",
    "\n",
    "from georefcam.camera_model import CTCameraModel\n",
    "from georefcam.dem import ASCIIGridDEM\n",
    "from georefcam.georefcam import GeoRefCam\n",
    "from pathlib import Path\n",
    "from PIL import Image\n",
    "from time import time\n",
    "\n",
    "# logging.basicConfig(level=logging.DEBUG)"
   ]
  },
  {
   "cell_type": "markdown",
   "id": "54a8d9f2-3de7-4d4c-8013-7685b8513ccc",
   "metadata": {},
   "source": [
    "# Définition des dossiers contenant les données nécessaires à l'exécution du notebook (À ÉDITER)"
   ]
  },
  {
   "cell_type": "code",
   "execution_count": 2,
   "id": "7e5bc761-5242-47ad-a741-4c16e6fac299",
   "metadata": {},
   "outputs": [],
   "source": [
    "carto_dir = Path(\"/home/florent/git_repos/d4g/pyronear/explo/cartos/BDALTIV2_2-0_25M_ASC_LAMB93-IGN69_D007_2022-12-16/BDALTIV2\")\n",
    "camdata_dir = Path(\"/home/florent/git_repos/d4g/pyronear/explo/pyronear_cam_data\")\n",
    "donnees_dir = Path(\"1_DONNEES_LIVRAISON_2023-01-00224/BDALTIV2_MNT_25M_ASC_LAMB93_IGN69_D007\")\n",
    "dalles_dir = Path(\"3_SUPPLEMENTS_LIVRAISON_2023-01-00224/BDALTIV2_MNT_25M_ASC_LAMB93_IGN69_D007/\")\n",
    "\n",
    "cam_name = \"brison_4\"\n",
    "test_img_name = \"pyronear_brison_4_2023_07_04T06_07_57.jpg\"\n",
    "gcp_filepath = \"df_annotations.pkl\""
   ]
  },
  {
   "cell_type": "markdown",
   "id": "09c72bbb-d5af-46d8-a48b-112cf934e71a",
   "metadata": {},
   "source": [
    "# Récupération des données de localisation/orientation de la caméra"
   ]
  },
  {
   "cell_type": "markdown",
   "id": "a859d357-89dc-4a3c-b051-77b0b77c9ed2",
   "metadata": {},
   "source": [
    "Création d'un geodataframe des dalles dans la carto contenant une caméra (problème si les dalles recherchées sont à cheval sur deux cartos, cas relativement improbable d'une caméra couvrant la bordure entre deux départements) :"
   ]
  },
  {
   "cell_type": "code",
   "execution_count": 3,
   "id": "839f6aea-675b-4542-b92e-79ab206ea3e9",
   "metadata": {},
   "outputs": [],
   "source": [
    "dalles_shape_file = Path(\"dalles.shp\")\n",
    "gdf_dalles = gpd.read_file(carto_dir / dalles_dir / dalles_shape_file)"
   ]
  },
  {
   "cell_type": "markdown",
   "id": "a0e1fb87-1863-405b-96be-d12f766f3b93",
   "metadata": {},
   "source": [
    "Création d'un geodataframe des caméras utilisées à l'aide du fichier de référence 'API_DATA - devices.csv' :"
   ]
  },
  {
   "cell_type": "code",
   "execution_count": 4,
   "id": "c398804f-e8a3-4488-91fc-622f033aed14",
   "metadata": {},
   "outputs": [],
   "source": [
    "cam_file = camdata_dir / \"API_DATA - devices.csv\"\n",
    "df_cams = pd.read_csv(cam_file)\n",
    "gdf_cams = gpd.GeoDataFrame(geometry=gpd.points_from_xy(df_cams.lon, df_cams.lat, crs=\"WGS84\"), data=df_cams)"
   ]
  },
  {
   "cell_type": "markdown",
   "id": "87c8c269-c2ff-429f-a21b-900584dc6fda",
   "metadata": {},
   "source": [
    "Sélection d'une caméra et récupération de ses informations, sélection du fichier de dalle contenant sa localisation"
   ]
  },
  {
   "cell_type": "code",
   "execution_count": 5,
   "id": "d24f9d3e-9608-471c-889c-2ab33a76f401",
   "metadata": {},
   "outputs": [],
   "source": [
    "cam_info = gdf_cams[gdf_cams.login == cam_name].squeeze()\n",
    "test_img_path = camdata_dir / cam_name / test_img_name\n",
    "test_img = Image.open(test_img_path)\n",
    "test_img_res = test_img.size\n",
    "\n",
    "gdf_dalles_wgs84 = gdf_dalles.to_crs(\"WGS84\")\n",
    "dalle_cam = gdf_dalles[gdf_dalles_wgs84.geometry.contains(cam_info.geometry)].squeeze()\n",
    "nom_dalle = dalle_cam.NOM_DALLE\n",
    "dalle_file = carto_dir / donnees_dir / Path(f\"{nom_dalle}.asc\")"
   ]
  },
  {
   "cell_type": "markdown",
   "id": "0a563e51-0c02-414b-a66a-f3e95d5f9cfe",
   "metadata": {},
   "source": [
    "# Création d'une caméra géoréférencée avec `georefcam`"
   ]
  },
  {
   "cell_type": "markdown",
   "id": "bff82b41-acf2-4c28-a7b1-221ca2f01e75",
   "metadata": {},
   "source": [
    "Création d'un DEM avec `ASCIIGridDEM`"
   ]
  },
  {
   "cell_type": "code",
   "execution_count": 8,
   "id": "c66e8ec0-555b-4988-8a98-e7da7acd3b6f",
   "metadata": {},
   "outputs": [],
   "source": [
    "dem = ASCIIGridDEM(dalle_file, gdf_dalles.crs)\n",
    "dem.build_pcd(sample_step=5)\n",
    "dem.build_mesh()"
   ]
  },
  {
   "cell_type": "markdown",
   "id": "0a4a54cb-89e4-4e34-9f00-26f6b869b7f1",
   "metadata": {},
   "source": [
    "Création d'un modèle de caméra orientée et localisée avec `CTCameraModel`"
   ]
  },
  {
   "cell_type": "code",
   "execution_count": 7,
   "id": "c16e5c83-7c16-40b1-b67a-98a1525bec45",
   "metadata": {},
   "outputs": [],
   "source": [
    "cam_view_x_angle, cam_view_y_angle = 87, 44\n",
    "cam_roll = 0\n",
    "cam_model = SimpleCameraModel(\n",
    "    test_img_res,\n",
    "    cam_view_x_angle,\n",
    "    cam_view_y_angle,\n",
    "    cam_info.azimuth,\n",
    "    cam_info.pitch,\n",
    "    cam_roll,\n",
    "    cam_info.lat,\n",
    "    cam_info.lon,\n",
    "    cam_info.elevation,\n",
    "    dem.crs\n",
    ")"
   ]
  },
  {
   "cell_type": "markdown",
   "id": "cb74ccb3-1c2b-4119-b8d3-476e5c8ec4a4",
   "metadata": {},
   "source": [
    "Création du modèle de caméra géoréférencée"
   ]
  },
  {
   "cell_type": "code",
   "execution_count": 9,
   "id": "80876410-21fe-4bdd-9d06-bdc3d3730bdd",
   "metadata": {},
   "outputs": [],
   "source": [
    "geocam = GeoRefCam(cam_model, dem)"
   ]
  },
  {
   "cell_type": "markdown",
   "id": "9e24fa3b-26cc-4cc2-a0dd-c593db0214ec",
   "metadata": {},
   "source": [
    "# Évaluation de la projection d'un ensemble de GCP"
   ]
  },
  {
   "cell_type": "code",
   "execution_count": 6,
   "id": "7f171d40-286b-4b27-8dfb-1a705e962090",
   "metadata": {},
   "outputs": [
    {
     "data": {
      "text/html": [
       "<div>\n",
       "<style scoped>\n",
       "    .dataframe tbody tr th:only-of-type {\n",
       "        vertical-align: middle;\n",
       "    }\n",
       "\n",
       "    .dataframe tbody tr th {\n",
       "        vertical-align: top;\n",
       "    }\n",
       "\n",
       "    .dataframe thead th {\n",
       "        text-align: right;\n",
       "    }\n",
       "</style>\n",
       "<table border=\"1\" class=\"dataframe\">\n",
       "  <thead>\n",
       "    <tr style=\"text-align: right;\">\n",
       "      <th></th>\n",
       "      <th>posx</th>\n",
       "      <th>posy</th>\n",
       "      <th>lat</th>\n",
       "      <th>lon</th>\n",
       "      <th>alt</th>\n",
       "      <th>geometry</th>\n",
       "    </tr>\n",
       "  </thead>\n",
       "  <tbody>\n",
       "    <tr>\n",
       "      <th>0</th>\n",
       "      <td>651</td>\n",
       "      <td>328</td>\n",
       "      <td>44.609620</td>\n",
       "      <td>4.098371</td>\n",
       "      <td>1448.0</td>\n",
       "      <td>POINT Z (4.09837 44.60962 1448.00000)</td>\n",
       "    </tr>\n",
       "    <tr>\n",
       "      <th>1</th>\n",
       "      <td>789</td>\n",
       "      <td>319</td>\n",
       "      <td>44.612899</td>\n",
       "      <td>4.126470</td>\n",
       "      <td>1458.0</td>\n",
       "      <td>POINT Z (4.12647 44.61290 1458.00000)</td>\n",
       "    </tr>\n",
       "    <tr>\n",
       "      <th>2</th>\n",
       "      <td>978</td>\n",
       "      <td>409</td>\n",
       "      <td>44.577702</td>\n",
       "      <td>4.188103</td>\n",
       "      <td>643.0</td>\n",
       "      <td>POINT Z (4.18810 44.57770 643.00000)</td>\n",
       "    </tr>\n",
       "    <tr>\n",
       "      <th>3</th>\n",
       "      <td>1190</td>\n",
       "      <td>310</td>\n",
       "      <td>44.612280</td>\n",
       "      <td>4.185187</td>\n",
       "      <td>1316.0</td>\n",
       "      <td>POINT Z (4.18519 44.61228 1316.00000)</td>\n",
       "    </tr>\n",
       "  </tbody>\n",
       "</table>\n",
       "</div>"
      ],
      "text/plain": [
       "   posx  posy        lat       lon     alt  \\\n",
       "0   651   328  44.609620  4.098371  1448.0   \n",
       "1   789   319  44.612899  4.126470  1458.0   \n",
       "2   978   409  44.577702  4.188103   643.0   \n",
       "3  1190   310  44.612280  4.185187  1316.0   \n",
       "\n",
       "                                geometry  \n",
       "0  POINT Z (4.09837 44.60962 1448.00000)  \n",
       "1  POINT Z (4.12647 44.61290 1458.00000)  \n",
       "2   POINT Z (4.18810 44.57770 643.00000)  \n",
       "3  POINT Z (4.18519 44.61228 1316.00000)  "
      ]
     },
     "execution_count": 6,
     "metadata": {},
     "output_type": "execute_result"
    }
   ],
   "source": [
    "with open(gcp_filepath, \"rb\") as f:\n",
    "    df_annot_gcp = pickle.load(f)\n",
    "df_annot_gcp = df_annot_gcp.rename({\"ele\": \"alt\"}, axis=1).astype({\"posx\": int, \"posy\": int, \"lat\": float, \"lon\": float, \"alt\": float})\n",
    "df_annot_gcp\n",
    "gdf_annot_gcp = gpd.GeoDataFrame(df_annot_gcp, geometry=gpd.points_from_xy(df_annot_gcp.lon, df_annot_gcp.lat, df_annot_gcp.alt), crs=\"WGS84\")\n",
    "gdf_annot_gcp"
   ]
  },
  {
   "cell_type": "markdown",
   "id": "c482ec21-b37e-4efa-ab6d-f6b18507dd7c",
   "metadata": {},
   "source": [
    "Sélection d'un ensemble de GCPs et génération de leurs rayons de projection dans le repère monde"
   ]
  },
  {
   "cell_type": "code",
   "execution_count": 10,
   "id": "9b0cbedc-c5a4-4309-bed8-fa2dddb4482d",
   "metadata": {},
   "outputs": [
    {
     "data": {
      "text/plain": [
       "array([[[ 44.54515457,  44.67704565],\n",
       "        [  4.21653414,   4.14014126],\n",
       "        [780.        ,   0.        ]],\n",
       "\n",
       "       [[ 44.54515457,  44.67704565],\n",
       "        [  4.21653414,   4.14014126],\n",
       "        [780.        ,   0.        ]]])"
      ]
     },
     "execution_count": 10,
     "metadata": {},
     "output_type": "execute_result"
    }
   ],
   "source": [
    "test_gcp_idx = [2, 2]\n",
    "pixel_points = gdf_annot_gcp.loc[test_gcp_idx, [\"posx\", \"posy\"]]\n",
    "# pixel_points = gdf_annot_gcp[[\"posx\", \"posy\"]]\n",
    "\n",
    "rays = geocam.camera_model.project_pixel_points_to_world_rays(pixel_points)\n",
    "rays"
   ]
  },
  {
   "cell_type": "markdown",
   "id": "1f3098c6-6af9-4fc4-a4df-5170d4d3d1d4",
   "metadata": {},
   "source": [
    "Benchmarks de runtime de la projection de rayons séquentielle et vectorielle, pour des collections de rayons et tailles de DEM "
   ]
  },
  {
   "cell_type": "code",
   "execution_count": 11,
   "id": "152c5da9-9e1c-4b93-8628-aefcc343d5cc",
   "metadata": {},
   "outputs": [
    {
     "name": "stdout",
     "output_type": "stream",
     "text": [
      "cast_m = vec | n_rays = 10 | DEM points: 10000\n",
      "Cast time: 0.52 s | Timeout: False\n",
      "\n",
      "\n",
      "cast_m = seq | n_rays = 10 | DEM points: 10000\n",
      "Cast time: 0.12 s | Timeout: False\n",
      "\n",
      "\n",
      "cast_m = vec | n_rays = 10 | DEM points: 40000\n",
      "Cast time: 0.59 s | Timeout: False\n",
      "\n",
      "\n",
      "cast_m = seq | n_rays = 10 | DEM points: 40000\n",
      "Cast time: 0.20 s | Timeout: False\n",
      "\n",
      "\n"
     ]
    }
   ],
   "source": [
    "exp_cast_m = [\"vec\", \"seq\"]\n",
    "exp_n_rays = [10]\n",
    "exp_dem_sample_steps = [10, 5]\n",
    "exp_max_runtime_s = 600\n",
    "exp_results = []\n",
    "\n",
    "for sample_step in exp_dem_sample_steps:\n",
    "    \n",
    "    dem = ASCIIGridDEM(dalle_file, gdf_dalles.crs)\n",
    "    dem.build_pcd(sample_step=sample_step)\n",
    "    dem.build_mesh()\n",
    "    geocam = GeoRefCam(cam_model, dem)\n",
    "    \n",
    "    for n_rays in exp_n_rays:\n",
    "        test_gcp_idx = [2] * n_rays\n",
    "        pixel_points = gdf_annot_gcp.loc[test_gcp_idx, [\"posx\", \"posy\"]]\n",
    "        pixel_points.posx += np.linspace(0, test_img_res[0], num=n_rays).astype(int)\n",
    "        rays = geocam.camera_model.project_pixel_points_to_world_rays(pixel_points)\n",
    "        n_points = int(geocam.dem.pcd.size / 3)\n",
    "        \n",
    "        for cast_m in exp_cast_m:    \n",
    "            print(f\"cast_m = {cast_m} | n_rays = {n_rays} | DEM points: {n_points}\")\n",
    "            start = time()\n",
    "            filtered_inter_points, filtered_inter_triangles, df_ray = geocam.cast_rays(\n",
    "                rays, check_crs=True, min_d_intersection_m=0, return_df_ray=True, cast_method=cast_m, max_cp_time_s=exp_max_runtime_s)\n",
    "            stop = time()\n",
    "\n",
    "            runtime = stop - start\n",
    "            timeout = df_ray is None\n",
    "            exp_results.append([cast_m, n_rays, n_points, stop - start, timeout, df_ray])\n",
    "\n",
    "            print(f\"Cast time: {stop - start:.2f} s | Timeout: {timeout}\\n\\n\")"
   ]
  },
  {
   "cell_type": "code",
   "execution_count": 18,
   "id": "225bc587-3d28-4511-a172-e97615ef8755",
   "metadata": {},
   "outputs": [
    {
     "ename": "AssertionError",
     "evalue": "DataFrame.iloc[:, 6] (column name=\"inter_x\") are different\n\nDataFrame.iloc[:, 6] (column name=\"inter_x\") values are different (100.0 %)\n[index]: [0, 1, 2, 3, 4, 5, 6, 7, 8, 9]\n[left]:  [797136.4368621425, 797137.5802774458, 797138.7233165373, 797139.8659798873, 797141.0082679661, 797142.1582215589, 797143.2997578719, 797144.440920328, 797145.5817093974, 797146.730155329]\n[right]: [794729.3125, 795650.3125, 796150.1875, 796547.875, 796852.75, 797106.375, 797351.6875, 797598.625, 797787.1875, 797957.9375]",
     "output_type": "error",
     "traceback": [
      "\u001b[0;31m---------------------------------------------------------------------------\u001b[0m",
      "\u001b[0;31mAssertionError\u001b[0m                            Traceback (most recent call last)",
      "Cell \u001b[0;32mIn[18], line 1\u001b[0m\n\u001b[0;32m----> 1\u001b[0m \u001b[43mpd\u001b[49m\u001b[38;5;241;43m.\u001b[39;49m\u001b[43mtesting\u001b[49m\u001b[38;5;241;43m.\u001b[39;49m\u001b[43massert_frame_equal\u001b[49m\u001b[43m(\u001b[49m\u001b[43mexp_results\u001b[49m\u001b[43m[\u001b[49m\u001b[38;5;241;43m0\u001b[39;49m\u001b[43m]\u001b[49m\u001b[43m[\u001b[49m\u001b[38;5;241;43m5\u001b[39;49m\u001b[43m]\u001b[49m\u001b[43m,\u001b[49m\u001b[43m \u001b[49m\u001b[43mexp_results\u001b[49m\u001b[43m[\u001b[49m\u001b[38;5;241;43m1\u001b[39;49m\u001b[43m]\u001b[49m\u001b[43m[\u001b[49m\u001b[38;5;241;43m5\u001b[39;49m\u001b[43m]\u001b[49m\u001b[43m)\u001b[49m\n",
      "    \u001b[0;31m[... skipping hidden 2 frame]\u001b[0m\n",
      "File \u001b[0;32m~/git_repos/d4g/pyronear/pyro_venv/lib/python3.10/site-packages/pandas/_libs/testing.pyx:52\u001b[0m, in \u001b[0;36mpandas._libs.testing.assert_almost_equal\u001b[0;34m()\u001b[0m\n",
      "File \u001b[0;32m~/git_repos/d4g/pyronear/pyro_venv/lib/python3.10/site-packages/pandas/_libs/testing.pyx:167\u001b[0m, in \u001b[0;36mpandas._libs.testing.assert_almost_equal\u001b[0;34m()\u001b[0m\n",
      "File \u001b[0;32m~/git_repos/d4g/pyronear/pyro_venv/lib/python3.10/site-packages/pandas/_testing/asserters.py:679\u001b[0m, in \u001b[0;36mraise_assert_detail\u001b[0;34m(obj, message, left, right, diff, index_values)\u001b[0m\n\u001b[1;32m    676\u001b[0m \u001b[38;5;28;01mif\u001b[39;00m diff \u001b[38;5;129;01mis\u001b[39;00m \u001b[38;5;129;01mnot\u001b[39;00m \u001b[38;5;28;01mNone\u001b[39;00m:\n\u001b[1;32m    677\u001b[0m     msg \u001b[38;5;241m+\u001b[39m\u001b[38;5;241m=\u001b[39m \u001b[38;5;124mf\u001b[39m\u001b[38;5;124m\"\u001b[39m\u001b[38;5;130;01m\\n\u001b[39;00m\u001b[38;5;124m[diff]: \u001b[39m\u001b[38;5;132;01m{\u001b[39;00mdiff\u001b[38;5;132;01m}\u001b[39;00m\u001b[38;5;124m\"\u001b[39m\n\u001b[0;32m--> 679\u001b[0m \u001b[38;5;28;01mraise\u001b[39;00m \u001b[38;5;167;01mAssertionError\u001b[39;00m(msg)\n",
      "\u001b[0;31mAssertionError\u001b[0m: DataFrame.iloc[:, 6] (column name=\"inter_x\") are different\n\nDataFrame.iloc[:, 6] (column name=\"inter_x\") values are different (100.0 %)\n[index]: [0, 1, 2, 3, 4, 5, 6, 7, 8, 9]\n[left]:  [797136.4368621425, 797137.5802774458, 797138.7233165373, 797139.8659798873, 797141.0082679661, 797142.1582215589, 797143.2997578719, 797144.440920328, 797145.5817093974, 797146.730155329]\n[right]: [794729.3125, 795650.3125, 796150.1875, 796547.875, 796852.75, 797106.375, 797351.6875, 797598.625, 797787.1875, 797957.9375]"
     ]
    }
   ],
   "source": [
    "pd.testing.assert_frame_equal(exp_results[0][5], exp_results[1][5])"
   ]
  },
  {
   "cell_type": "markdown",
   "id": "baa3375c-d88b-443d-a14e-091744f25f37",
   "metadata": {},
   "source": [
    "# TODO: VISUALISER ET COMPARER LES PROJS DE RAYONS GÉNÉRÉS PAR LES MÉTHODES SEQ ET VEC"
   ]
  },
  {
   "cell_type": "code",
   "execution_count": 12,
   "id": "56956c5a-5cab-4dce-9b79-67afbe7078b6",
   "metadata": {},
   "outputs": [],
   "source": [
    "# import numpy as np\n",
    "\n",
    "# plot_margin_m = 1000\n",
    "\n",
    "# target_points = np.array([list(gdf_annot_gcp.to_crs(gdf_dalles.crs).loc[idx, \"geometry\"].coords)[0] for idx in test_gcp_idx])\n",
    "# origins = df_ray[[\"ori_x\", \"ori_y\", \"ori_z\"]].values\n",
    "# inter_points = df_ray[[\"inter_x\", \"inter_y\", \"inter_z\"]].values\n",
    "\n",
    "# print(f\"target_points:\\n{target_points}\\n\\norigins:\\n{origins}\\n\\ninter_points:\\n{inter_points}\")\n",
    "\n",
    "# points_of_interest = np.vstack((target_points, origins, inter_points))\n",
    "# (x_min, y_min, _) = points_of_interest.min(axis=0) - plot_margin_m\n",
    "# (x_max, y_max, _) = points_of_interest.max(axis=0) + plot_margin_m\n",
    "\n",
    "# alts_meshgrid = dem.pcd\n",
    "# zone_mask_idx = np.vstack(((alts_meshgrid[:, :, 0] > x_min) & (alts_meshgrid[:, :, 0] < x_max) & (alts_meshgrid[:, :, 1] > y_min) & (alts_meshgrid[:, :, 1] < y_max)).nonzero())\n",
    "# x_min_idx, y_min_idx = zone_mask_idx.min(axis=1)\n",
    "# x_max_idx, y_max_idx = zone_mask_idx.max(axis=1)\n",
    "# plot_meshgrid = alts_meshgrid[x_min_idx:x_max_idx, y_min_idx:y_max_idx, :]\n",
    "\n",
    "# plot_pv_meshgrid = pv.StructuredGrid(*[plot_meshgrid[:, :, i] for i in range(3)])\n",
    "# plot_pv_meshgrid[\"alt\"] = plot_meshgrid[:, :, 2].ravel(order=\"F\")  # add the altitude as a scalar field in order to plot it as a colormap\n",
    "\n",
    "\n",
    "# plotter = pv.Plotter(lighting=\"none\")\n",
    "# plotter.add_mesh(plot_pv_meshgrid, smooth_shading=True, specular=0.5, specular_power=15)\n",
    "# light = pv.Light()\n",
    "# light.set_direction_angle(45, -20)\n",
    "# plotter.add_light(light)\n",
    "\n",
    "# bar_height_m = round(max(abs(alts_meshgrid[0, x_max_idx, 0] - alts_meshgrid[0, x_min_idx, 0]), abs(alts_meshgrid[y_max_idx, 0, 1] - alts_meshgrid[y_min_idx, 0, 1])) / 10)\n",
    "\n",
    "# targets_pl = [pv.Line(target_point, target_point + np.array([0, 0, bar_height_m])) for target_point in target_points]\n",
    "# origins_pl = [pv.Line(origin, origin + np.array([0, 0, bar_height_m])) for origin in origins]\n",
    "# inters_pl = [pv.Line(inter_point, inter_point + np.array([0, 0, bar_height_m])) for inter_point in inter_points]\n",
    "# ray_cuts = [pv.Line(origin, inter_point) for origin, inter_point in zip(origins, inter_points)]\n",
    "# sep_lines = [pv.Line([target_point[0], target_point[1], max(target_point[2], inter_point[2])], [inter_point[0], inter_point[1], max(target_point[2], inter_point[2])]) for target_point, inter_point in zip(target_points, inter_points)]\n",
    "# intersections = [pv.PolyData(inter_point) for inter_point in inter_points]\n",
    "\n",
    "# for n_proj in range(len(target_points)):\n",
    "#     plotter.add_mesh(origins_pl[n_proj], color=\"red\", line_width=2, opacity=1)\n",
    "#     plotter.add_mesh(ray_cuts[n_proj], color=\"orange\", line_width=2, opacity=1)\n",
    "#     plotter.add_mesh(inters_pl[n_proj], color=\"lightgreen\", line_width=2, opacity=1)\n",
    "#     plotter.add_mesh(targets_pl[n_proj], color=\"yellow\", line_width=2, opacity=1)\n",
    "#     plotter.add_mesh(sep_lines[n_proj], color=\"cyan\", line_width=2, opacity=1,)\n",
    "#     plotter.add_mesh(intersections[n_proj], color=\"maroon\", point_size=5)\n",
    "\n",
    "# plotter.show()"
   ]
  },
  {
   "cell_type": "markdown",
   "id": "ad5e615e-04af-4be8-90a5-abf4ac711112",
   "metadata": {},
   "source": [
    "# Benchmarks de runtime de la projection de rayons séquentielle et vectorielle, pour des collections de rayons et tailles de DEM croissantes"
   ]
  },
  {
   "cell_type": "markdown",
   "id": "3cfb1cf5-5802-4867-a945-2f4238a04a99",
   "metadata": {},
   "source": [
    "Nous constatons que pour des collections de moins de 1000 rayons à projeter, la méthode séquentielle est la plus rapide. Au-delà de ce nombre, la méthode vectorielle devient plus efficace. La taille du MNT n'influence pas la position de cette délimitation, mais elle influe sur le gain de temps apporté par la méthode (plus le MNT contient de points, plus la différence de temps de calcul entre les deux méthodes est importante)."
   ]
  },
  {
   "cell_type": "markdown",
   "id": "32765471-722f-46a3-9c12-989af5e83ef7",
   "metadata": {},
   "source": [
    "EXPERIMENTAL RESULTS\n",
    "\n",
    "-------------------------------------------------------\n",
    "\n",
    "PARAMETER SPACE:\n",
    "\n",
    "```\n",
    "exp_cast_m = [\"vec\", \"seq\"]\n",
    "exp_n_rays = [1, 10, 100, 1000, 10000]\n",
    "exp_dem_sample_steps = [10, 5, 2, 1]\n",
    "exp_max_runtime_s = 350\n",
    "```\n",
    "\n",
    "-------------------------------------------------------\n",
    "\n",
    "SETUP:\n",
    "\n",
    "```\n",
    "Architecture :                              x86_64\n",
    "  Mode(s) opératoire(s) des processeurs :   32-bit, 64-bit\n",
    "  Address sizes:                            48 bits physical, 48 bits virtual\n",
    "  Boutisme :                                Little Endian\n",
    "Processeur(s) :                             16\n",
    "  Liste de processeur(s) en ligne :         0-15\n",
    "Identifiant constructeur :                  AuthenticAMD\n",
    "  Nom de modèle :                           AMD Ryzen 7 5700U with Radeon Graphics\n",
    "    Famille de processeur :                 23\n",
    "    Modèle :                                104\n",
    "    Thread(s) par cœur :                    2\n",
    "    Cœur(s) par socket :                    8\n",
    "    Socket(s) :                             1\n",
    "    Révision :                              1\n",
    "    Vitesse maximale du processeur en MHz : 4372,0000\n",
    "    Vitesse minimale du processeur en MHz : 400,0000\n",
    "    BogoMIPS :                              3592.98\n",
    "\n",
    "MiB Mem :  15325,9 total\n",
    "```\n",
    "\n",
    "-------------------------------------------------------\n",
    "\n",
    "RESULTS:\n",
    "\n",
    "```\n",
    "cast_m = vec | n_rays = 1 | DEM points: 10000\n",
    "Cast time: 0.57 s | Timeout: False\n",
    "\n",
    "cast_m = seq | n_rays = 1 | DEM points: 10000\n",
    "Cast time: 0.13 s | Timeout: False\n",
    "\n",
    "cast_m = vec | n_rays = 10 | DEM points: 10000\n",
    "Cast time: 0.21 s | Timeout: False\n",
    "\n",
    "cast_m = seq | n_rays = 10 | DEM points: 10000\n",
    "Cast time: 0.11 s | Timeout: False\n",
    "\n",
    "cast_m = vec | n_rays = 100 | DEM points: 10000\n",
    "Cast time: 0.23 s | Timeout: False\n",
    "\n",
    "cast_m = seq | n_rays = 100 | DEM points: 10000\n",
    "Cast time: 0.14 s | Timeout: False\n",
    "\n",
    "cast_m = vec | n_rays = 1000 | DEM points: 10000\n",
    "Cast time: 0.49 s | Timeout: False\n",
    "\n",
    "cast_m = seq | n_rays = 1000 | DEM points: 10000\n",
    "Cast time: 0.40 s | Timeout: False\n",
    "\n",
    "cast_m = vec | n_rays = 10000 | DEM points: 10000\n",
    "Cast time: 2.28 s | Timeout: False\n",
    "\n",
    "cast_m = seq | n_rays = 10000 | DEM points: 10000\n",
    "Cast time: 3.28 s | Timeout: False\n",
    "\n",
    "cast_m = vec | n_rays = 1 | DEM points: 40000\n",
    "Cast time: 0.59 s | Timeout: False\n",
    "\n",
    "cast_m = seq | n_rays = 1 | DEM points: 40000\n",
    "Cast time: 0.21 s | Timeout: False\n",
    "\n",
    "cast_m = vec | n_rays = 10 | DEM points: 40000\n",
    "Cast time: 0.64 s | Timeout: False\n",
    "\n",
    "cast_m = seq | n_rays = 10 | DEM points: 40000\n",
    "Cast time: 0.13 s | Timeout: False\n",
    "\n",
    "cast_m = vec | n_rays = 100 | DEM points: 40000\n",
    "Cast time: 0.70 s | Timeout: False\n",
    "\n",
    "cast_m = seq | n_rays = 100 | DEM points: 40000\n",
    "Cast time: 0.20 s | Timeout: False\n",
    "\n",
    "cast_m = vec | n_rays = 1000 | DEM points: 40000\n",
    "Cast time: 1.05 s | Timeout: False\n",
    "\n",
    "cast_m = seq | n_rays = 1000 | DEM points: 40000\n",
    "Cast time: 0.96 s | Timeout: False\n",
    "\n",
    "cast_m = vec | n_rays = 10000 | DEM points: 40000\n",
    "Cast time: 3.98 s | Timeout: False\n",
    "\n",
    "cast_m = seq | n_rays = 10000 | DEM points: 40000\n",
    "Cast time: 9.14 s | Timeout: False\n",
    "\n",
    "cast_m = vec | n_rays = 1 | DEM points: 250000\n",
    "Cast time: 3.37 s | Timeout: False\n",
    "\n",
    "cast_m = seq | n_rays = 1 | DEM points: 250000\n",
    "Cast time: 0.70 s | Timeout: False\n",
    "\n",
    "cast_m = vec | n_rays = 10 | DEM points: 250000\n",
    "Cast time: 3.42 s | Timeout: False\n",
    "\n",
    "cast_m = seq | n_rays = 10 | DEM points: 250000\n",
    "Cast time: 0.16 s | Timeout: False\n",
    "\n",
    "cast_m = vec | n_rays = 100 | DEM points: 250000\n",
    "Cast time: 3.57 s | Timeout: False\n",
    "\n",
    "cast_m = seq | n_rays = 100 | DEM points: 250000\n",
    "Cast time: 0.64 s | Timeout: False\n",
    "\n",
    "cast_m = vec | n_rays = 1000 | DEM points: 250000\n",
    "Cast time: 4.52 s | Timeout: False\n",
    "\n",
    "cast_m = seq | n_rays = 1000 | DEM points: 250000\n",
    "Cast time: 5.28 s | Timeout: False\n",
    "\n",
    "cast_m = vec | n_rays = 10000 | DEM points: 250000\n",
    "Cast time: 12.05 s | Timeout: False\n",
    "\n",
    "cast_m = seq | n_rays = 10000 | DEM points: 250000\n",
    "Cast time: 52.02 s | Timeout: False\n",
    "\n",
    "cast_m = vec | n_rays = 1 | DEM points: 1000000\n",
    "Cast time: 17.07 s | Timeout: False\n",
    "\n",
    "cast_m = seq | n_rays = 1 | DEM points: 1000000\n",
    "Cast time: 2.30 s | Timeout: False\n",
    "\n",
    "cast_m = vec | n_rays = 10 | DEM points: 1000000\n",
    "Cast time: 18.11 s | Timeout: False\n",
    "\n",
    "cast_m = seq | n_rays = 10 | DEM points: 1000000\n",
    "Cast time: 0.29 s | Timeout: False\n",
    "\n",
    "cast_m = vec | n_rays = 100 | DEM points: 1000000\n",
    "Cast time: 17.95 s | Timeout: False\n",
    "\n",
    "cast_m = seq | n_rays = 100 | DEM points: 1000000\n",
    "Cast time: 2.07 s | Timeout: False\n",
    "\n",
    "cast_m = vec | n_rays = 1000 | DEM points: 1000000\n",
    "Cast time: 19.30 s | Timeout: False\n",
    "\n",
    "cast_m = seq | n_rays = 1000 | DEM points: 1000000\n",
    "Cast time: 19.79 s | Timeout: False\n",
    "\n",
    "cast_m = vec | n_rays = 10000 | DEM points: 1000000\n",
    "Cast time: 35.79 s | Timeout: False\n",
    "\n",
    "cast_m = seq | n_rays = 10000 | DEM points: 1000000\n",
    "Cast time: 197.09 s | Timeout: False\n",
    "```"
   ]
  }
 ],
 "metadata": {
  "kernelspec": {
   "display_name": "Python 3 (ipykernel)",
   "language": "python",
   "name": "python3"
  },
  "language_info": {
   "codemirror_mode": {
    "name": "ipython",
    "version": 3
   },
   "file_extension": ".py",
   "mimetype": "text/x-python",
   "name": "python",
   "nbconvert_exporter": "python",
   "pygments_lexer": "ipython3",
   "version": "3.10.12"
  }
 },
 "nbformat": 4,
 "nbformat_minor": 5
}
