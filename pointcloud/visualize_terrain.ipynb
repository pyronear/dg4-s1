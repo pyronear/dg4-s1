{
 "cells": [
  {
   "cell_type": "code",
   "execution_count": 1,
   "metadata": {},
   "outputs": [
    {
     "name": "stdout",
     "output_type": "stream",
     "text": [
      "Jupyter environment detected. Enabling Open3D WebVisualizer.\n",
      "[Open3D INFO] WebRTC GUI backend enabled.\n",
      "[Open3D INFO] WebRTCWindowSystem: HTTP handshake server disabled.\n"
     ]
    }
   ],
   "source": [
    "import numpy as np\n",
    "import open3d as o3d\n",
    "import laspy\n",
    "import glob\n",
    "from pyproj import Transformer"
   ]
  },
  {
   "cell_type": "markdown",
   "metadata": {},
   "source": [
    "# Visualize point cloud from lidar data\n",
    "## Load Data"
   ]
  },
  {
   "cell_type": "code",
   "execution_count": 2,
   "metadata": {},
   "outputs": [],
   "source": [
    "# convert a las object into a point cloud x,y,z\n",
    "def las_to_point(las):\n",
    "    return np.stack([las.x, las.y, las.z], axis=0).transpose((1, 0))\n",
    "\n",
    "# take 1 in \"by\" elements of array\n",
    "def downsample(array, by:int): \n",
    "    indices = list(range(0,len(array),by))\n",
    "    downsampled = np.take(array, indices, axis=0)\n",
    "    return downsampled\n",
    "\n",
    "# get point cloud from files\n",
    "def load_data(datadir, downsampleby=1000):\n",
    "    point_data = np.array([]).reshape(0,3)\n",
    "    for file in glob.glob(datadir+\"*.laz\"):\n",
    "        print(\"Loading\", file)\n",
    "        las = laspy.read(file)\n",
    "        new_points = downsample(las_to_point(las), downsampleby)\n",
    "        point_data = np.concatenate((point_data, new_points))\n",
    "    print(\"Number of points:\", point_data.shape[0])\n",
    "    # convert to open3d point cloud\n",
    "    pc = o3d.geometry.PointCloud()\n",
    "    pc.points = o3d.utility.Vector3dVector(point_data)\n",
    "    return pc"
   ]
  },
  {
   "cell_type": "code",
   "execution_count": 4,
   "metadata": {},
   "outputs": [
    {
     "name": "stdout",
     "output_type": "stream",
     "text": [
      "Loading ./data/MNS/LHD_FXX_0798_6383_PTS_C_LAMB93_IGN69.copc.laz\n",
      "Loading ./data/MNS/LHD_FXX_0795_6382_PTS_C_LAMB93_IGN69.copc.laz\n",
      "Loading ./data/MNS/LHD_FXX_0795_6383_PTS_C_LAMB93_IGN69.copc.laz\n",
      "Loading ./data/MNS/LHD_FXX_0795_6384_PTS_C_LAMB93_IGN69.copc.laz\n",
      "Loading ./data/MNS/LHD_FXX_0795_6385_PTS_C_LAMB93_IGN69.copc.laz\n",
      "Loading ./data/MNS/LHD_FXX_0795_6386_PTS_C_LAMB93_IGN69.copc.laz\n",
      "Loading ./data/MNS/LHD_FXX_0796_6382_PTS_C_LAMB93_IGN69.copc.laz\n",
      "Loading ./data/MNS/LHD_FXX_0796_6383_PTS_C_LAMB93_IGN69.copc.laz\n",
      "Loading ./data/MNS/LHD_FXX_0796_6384_PTS_C_LAMB93_IGN69.copc.laz\n",
      "Loading ./data/MNS/LHD_FXX_0796_6385_PTS_C_LAMB93_IGN69.copc.laz\n",
      "Loading ./data/MNS/LHD_FXX_0796_6386_PTS_C_LAMB93_IGN69.copc.laz\n",
      "Loading ./data/MNS/LHD_FXX_0797_6382_PTS_C_LAMB93_IGN69.copc.laz\n",
      "Loading ./data/MNS/LHD_FXX_0797_6383_PTS_C_LAMB93_IGN69.copc.laz\n",
      "Loading ./data/MNS/LHD_FXX_0797_6384_PTS_C_LAMB93_IGN69.copc.laz\n",
      "Loading ./data/MNS/LHD_FXX_0797_6385_PTS_C_LAMB93_IGN69.copc.laz\n",
      "Loading ./data/MNS/LHD_FXX_0797_6386_PTS_C_LAMB93_IGN69.copc.laz\n",
      "Loading ./data/MNS/LHD_FXX_0798_6382_PTS_C_LAMB93_IGN69.copc.laz\n",
      "Loading ./data/MNS/LHD_FXX_0798_6384_PTS_C_LAMB93_IGN69.copc.laz\n",
      "Loading ./data/MNS/LHD_FXX_0798_6385_PTS_C_LAMB93_IGN69.copc.laz\n",
      "Loading ./data/MNS/LHD_FXX_0798_6386_PTS_C_LAMB93_IGN69.copc.laz\n",
      "Loading ./data/MNS/LHD_FXX_0799_6382_PTS_C_LAMB93_IGN69.copc.laz\n",
      "Loading ./data/MNS/LHD_FXX_0799_6383_PTS_C_LAMB93_IGN69.copc.laz\n",
      "Loading ./data/MNS/LHD_FXX_0799_6384_PTS_C_LAMB93_IGN69.copc.laz\n",
      "Loading ./data/MNS/LHD_FXX_0799_6385_PTS_C_LAMB93_IGN69.copc.laz\n",
      "Loading ./data/MNS/LHD_FXX_0799_6386_PTS_C_LAMB93_IGN69.copc.laz\n",
      "Number of points: 995772\n"
     ]
    }
   ],
   "source": [
    "datadir = \"./data/MNS/\"\n",
    "pc = load_data(datadir, 1000)"
   ]
  },
  {
   "cell_type": "code",
   "execution_count": 5,
   "metadata": {},
   "outputs": [],
   "source": [
    "# display test\n",
    "o3d.visualization.draw_geometries([pc])"
   ]
  },
  {
   "cell_type": "code",
   "execution_count": 7,
   "metadata": {},
   "outputs": [],
   "source": [
    "# other way to downsample, once the pc object is defined\n",
    "#pc.voxel_down_sample(0.05)"
   ]
  },
  {
   "cell_type": "markdown",
   "metadata": {},
   "source": [
    "## Define view point"
   ]
  },
  {
   "cell_type": "code",
   "execution_count": 7,
   "metadata": {},
   "outputs": [],
   "source": [
    "# project a point from latitude longitude to Lambert 93 coordinates\n",
    "def project_to_lambert93(lat, lon, altitude):\n",
    "    projector = Transformer.from_crs(\"EPSG:4326\", \"EPSG:2154\")\n",
    "    view_point = np.array(projector.transform(lat,lon)+(altitude,))\n",
    "    return view_point\n",
    "\n",
    "lat = 44.5451545715\n",
    "lon = 4.2165341377\n",
    "elevation=780\n",
    "view_point = project_to_lambert93(lat, lon, elevation)"
   ]
  },
  {
   "cell_type": "code",
   "execution_count": 8,
   "metadata": {},
   "outputs": [],
   "source": [
    "# Add a sphere at view point\n",
    "sphere = o3d.geometry.TriangleMesh.create_sphere(radius=15)\n",
    "sphere.translate(view_point)\n",
    "o3d.visualization.draw_geometries([pc, sphere])"
   ]
  },
  {
   "cell_type": "code",
   "execution_count": 10,
   "metadata": {},
   "outputs": [],
   "source": [
    "width = 1280\n",
    "height = 720\n",
    "# change intrinsic and extrinsinc matrices in this file\n",
    "parameters = o3d.io.read_pinhole_camera_parameters(\"ScreenCamera_viewpoint.json\")"
   ]
  },
  {
   "cell_type": "code",
   "execution_count": 13,
   "metadata": {},
   "outputs": [],
   "source": [
    "# example to set the camera to the registered location\n",
    "vis = o3d.visualization.Visualizer()\n",
    "vis.create_window(width=width, height=height)\n",
    "vis.add_geometry(pc)\n",
    "#vis.set_full_screen(True)\n",
    "vis.get_view_control().convert_from_pinhole_camera_parameters(parameters, True)\n",
    "vis.run()\n",
    "vis.destroy_window()"
   ]
  },
  {
   "cell_type": "markdown",
   "metadata": {},
   "source": [
    "## Set camera actions"
   ]
  },
  {
   "cell_type": "code",
   "execution_count": 21,
   "metadata": {},
   "outputs": [],
   "source": [
    "# camera rotation around local up axis\n",
    "def rotate_view_right(vis):\n",
    "    ctr = vis.get_view_control()\n",
    "    ctr.camera_local_rotate(4.0, 0.0)\n",
    "    return False\n",
    "\n",
    "def rotate_view_left(vis):\n",
    "    ctr = vis.get_view_control()\n",
    "    ctr.camera_local_rotate(-4.0, 0.0)\n",
    "    return False\n",
    "\n",
    "# camera translation towards local front axis\n",
    "def translate_view(vis):\n",
    "    ctr = vis.get_view_control()\n",
    "    ctr.camera_local_translate(10,0,0)\n",
    "    return False\n",
    "\n",
    "# set the local up axis to be colinear to global z axis\n",
    "def correct_up(vis):\n",
    "    ctr = vis.get_view_control()\n",
    "    ctr.set_up(np.array([0,0,1]))\n",
    "    return False\n",
    "\n",
    "# set the camera position to view point\n",
    "def set_view(vis):\n",
    "    ctr = vis.get_view_control()\n",
    "    ctr.convert_from_pinhole_camera_parameters(parameters, True)\n",
    "    return False\n",
    "\n",
    "# set the local front axis to look at viewpoint\n",
    "def look_at_view_point(vis):\n",
    "    ctr = vis.get_view_control()\n",
    "    ctr.set_lookat(view_point)\n",
    "    return False\n",
    "\n",
    "# def print_extrinsic(vis):\n",
    "#     ctr = vis.get_view_control()\n",
    "#     params = ctr.convert_to_pinhole_camera_parameters()\n",
    "#     print(params.extrinsic)\n",
    "#     return False\n",
    "\n",
    "key_to_callback = {}\n",
    "key_to_callback[o3d.visualization.gui.KeyName.RIGHT] = rotate_view_right\n",
    "key_to_callback[o3d.visualization.gui.KeyName.LEFT] = rotate_view_left\n",
    "key_to_callback[ord(\"T\")] = translate_view\n",
    "key_to_callback[ord(\"U\")] = correct_up\n",
    "key_to_callback[ord(\"V\")] = set_view\n",
    "key_to_callback[ord(\"L\")] = look_at_view_point\n"
   ]
  },
  {
   "cell_type": "markdown",
   "metadata": {},
   "source": [
    "Register camera position (to do once per viewpoint):\n",
    "- place camera vertically to have viewpoint around the center (eventually use U)\n",
    "- use L to lock the viewpoint direction\n",
    "- use T to translate until viewpoint is reached\n",
    "- use P to save the camera parameters\n",
    "\n",
    "Place camera to viewpoint:\n",
    "- use V to set view\n",
    "- use left/right arrows to rotate until desired view is obtained"
   ]
  },
  {
   "cell_type": "code",
   "execution_count": 23,
   "metadata": {},
   "outputs": [],
   "source": [
    "#o3d.visualization.draw_geometries_with_animation_callback([pc],rotate_view)\n",
    "o3d.visualization.draw_geometries_with_key_callbacks([pc, sphere],key_to_callback, width=width, height=height)"
   ]
  },
  {
   "cell_type": "code",
   "execution_count": 126,
   "metadata": {},
   "outputs": [],
   "source": [
    "# compute rotation matrix from vector\n",
    "# import cv2\n",
    "# rvec = np.array([0.0, 0.0, 0.0])\n",
    "# R, _ = cv2.Rodrigues(rvec)\n",
    "# R"
   ]
  }
 ],
 "metadata": {
  "kernelspec": {
   "display_name": "geo",
   "language": "python",
   "name": "python3"
  },
  "language_info": {
   "codemirror_mode": {
    "name": "ipython",
    "version": 3
   },
   "file_extension": ".py",
   "mimetype": "text/x-python",
   "name": "python",
   "nbconvert_exporter": "python",
   "pygments_lexer": "ipython3",
   "version": "3.11.7"
  }
 },
 "nbformat": 4,
 "nbformat_minor": 2
}
