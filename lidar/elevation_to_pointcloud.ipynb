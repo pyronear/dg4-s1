{
 "cells": [
  {
   "cell_type": "code",
   "execution_count": 5,
   "metadata": {},
   "outputs": [],
   "source": [
    "import math\n",
    "import elevation as eio\n",
    "from pathlib import Path"
   ]
  },
  {
   "cell_type": "markdown",
   "metadata": {},
   "source": [
    "An equivalent function to this notebook is in load.py/load_from_eio()"
   ]
  },
  {
   "cell_type": "code",
   "execution_count": 7,
   "metadata": {},
   "outputs": [],
   "source": [
    "#lat, lon = 44.5451545715, 4.2165341377\n",
    "lat, lon =  35.18057, -111.65288\n",
    "\n",
    "def bounds_from_distance(km):\n",
    "    dlat = (km/2) / 111.11\n",
    "    dlon = dlat / math.cos(math.radians(lat))\n",
    "    return [lon - dlon, lat - dlat, lon + dlon, lat + dlat]\n",
    "\n",
    "bounds = bounds_from_distance(50)"
   ]
  },
  {
   "cell_type": "code",
   "execution_count": 20,
   "metadata": {},
   "outputs": [
    {
     "name": "stdout",
     "output_type": "stream",
     "text": [
      "make: Entering directory '/home/nicod/.cache/elevation/SRTM3'\n",
      "make: Nothing to be done for 'download'.\n",
      "make: Leaving directory '/home/nicod/.cache/elevation/SRTM3'\n",
      "make: Entering directory '/home/nicod/.cache/elevation/SRTM3'\n",
      "make: Nothing to be done for 'all'.\n",
      "make: Leaving directory '/home/nicod/.cache/elevation/SRTM3'\n",
      "make: Entering directory '/home/nicod/.cache/elevation/SRTM3'\n",
      "cp SRTM3.vrt SRTM3.52f25525dd9f42489b8dd6e0dad9b496.vrt\n",
      "make: Leaving directory '/home/nicod/.cache/elevation/SRTM3'\n",
      "make: Entering directory '/home/nicod/.cache/elevation/SRTM3'\n",
      "gdal_translate -q -co TILED=YES -co COMPRESS=DEFLATE -co ZLEVEL=9 -co PREDICTOR=2 -projwin -111.92816587770554 35.4055722500225 -111.37759412229445 34.955567749977504 SRTM3.52f25525dd9f42489b8dd6e0dad9b496.vrt /media/nicod/Documents/D4G/pyronear/lidar/data/MNS/test.tiff\n",
      "rm -f SRTM3.52f25525dd9f42489b8dd6e0dad9b496.vrt\n",
      "make: Leaving directory '/home/nicod/.cache/elevation/SRTM3'\n"
     ]
    }
   ],
   "source": [
    "datapath = Path.cwd()/'data/MNS/'\n",
    "tiff_file = datapath/'test.tiff'\n",
    "eio.clip(bounds=bounds, output=tiff_file, product='SRTM3')"
   ]
  },
  {
   "cell_type": "code",
   "execution_count": 21,
   "metadata": {},
   "outputs": [],
   "source": [
    "from osgeo import gdal\n",
    "\n",
    "xyz_path = (datapath/'test.xyz').as_posix()\n",
    "ds = gdal.Open(tiff_file.as_posix())\n",
    "xyz = gdal.Translate(xyz_path, ds)"
   ]
  },
  {
   "cell_type": "code",
   "execution_count": 22,
   "metadata": {},
   "outputs": [
    {
     "data": {
      "text/html": [
       "<div>\n",
       "<style scoped>\n",
       "    .dataframe tbody tr th:only-of-type {\n",
       "        vertical-align: middle;\n",
       "    }\n",
       "\n",
       "    .dataframe tbody tr th {\n",
       "        vertical-align: top;\n",
       "    }\n",
       "\n",
       "    .dataframe thead th {\n",
       "        text-align: right;\n",
       "    }\n",
       "</style>\n",
       "<table border=\"1\" class=\"dataframe\">\n",
       "  <thead>\n",
       "    <tr style=\"text-align: right;\">\n",
       "      <th></th>\n",
       "      <th>x</th>\n",
       "      <th>y</th>\n",
       "      <th>z</th>\n",
       "    </tr>\n",
       "  </thead>\n",
       "  <tbody>\n",
       "    <tr>\n",
       "      <th>0</th>\n",
       "      <td>-111.927917</td>\n",
       "      <td>35.405417</td>\n",
       "      <td>2210</td>\n",
       "    </tr>\n",
       "    <tr>\n",
       "      <th>1</th>\n",
       "      <td>-111.927083</td>\n",
       "      <td>35.405417</td>\n",
       "      <td>2210</td>\n",
       "    </tr>\n",
       "    <tr>\n",
       "      <th>2</th>\n",
       "      <td>-111.926250</td>\n",
       "      <td>35.405417</td>\n",
       "      <td>2216</td>\n",
       "    </tr>\n",
       "    <tr>\n",
       "      <th>3</th>\n",
       "      <td>-111.925417</td>\n",
       "      <td>35.405417</td>\n",
       "      <td>2218</td>\n",
       "    </tr>\n",
       "    <tr>\n",
       "      <th>4</th>\n",
       "      <td>-111.924583</td>\n",
       "      <td>35.405417</td>\n",
       "      <td>2224</td>\n",
       "    </tr>\n",
       "  </tbody>\n",
       "</table>\n",
       "</div>"
      ],
      "text/plain": [
       "            x          y     z\n",
       "0 -111.927917  35.405417  2210\n",
       "1 -111.927083  35.405417  2210\n",
       "2 -111.926250  35.405417  2216\n",
       "3 -111.925417  35.405417  2218\n",
       "4 -111.924583  35.405417  2224"
      ]
     },
     "execution_count": 22,
     "metadata": {},
     "output_type": "execute_result"
    }
   ],
   "source": [
    "import pandas as pd\n",
    "\n",
    "test = pd.read_csv(xyz_path, sep=' ', names=['x', 'y', 'z'])\n",
    "test.head()"
   ]
  },
  {
   "cell_type": "code",
   "execution_count": 23,
   "metadata": {},
   "outputs": [
    {
     "data": {
      "text/html": [
       "<div>\n",
       "<style scoped>\n",
       "    .dataframe tbody tr th:only-of-type {\n",
       "        vertical-align: middle;\n",
       "    }\n",
       "\n",
       "    .dataframe tbody tr th {\n",
       "        vertical-align: top;\n",
       "    }\n",
       "\n",
       "    .dataframe thead th {\n",
       "        text-align: right;\n",
       "    }\n",
       "</style>\n",
       "<table border=\"1\" class=\"dataframe\">\n",
       "  <thead>\n",
       "    <tr style=\"text-align: right;\">\n",
       "      <th></th>\n",
       "      <th>x</th>\n",
       "      <th>y</th>\n",
       "      <th>z</th>\n",
       "    </tr>\n",
       "  </thead>\n",
       "  <tbody>\n",
       "    <tr>\n",
       "      <th>0</th>\n",
       "      <td>-6.545501e+06</td>\n",
       "      <td>1.181633e+07</td>\n",
       "      <td>2210.0</td>\n",
       "    </tr>\n",
       "    <tr>\n",
       "      <th>1</th>\n",
       "      <td>-6.545492e+06</td>\n",
       "      <td>1.181625e+07</td>\n",
       "      <td>2210.0</td>\n",
       "    </tr>\n",
       "    <tr>\n",
       "      <th>2</th>\n",
       "      <td>-6.545483e+06</td>\n",
       "      <td>1.181618e+07</td>\n",
       "      <td>2216.0</td>\n",
       "    </tr>\n",
       "    <tr>\n",
       "      <th>3</th>\n",
       "      <td>-6.545474e+06</td>\n",
       "      <td>1.181610e+07</td>\n",
       "      <td>2218.0</td>\n",
       "    </tr>\n",
       "    <tr>\n",
       "      <th>4</th>\n",
       "      <td>-6.545465e+06</td>\n",
       "      <td>1.181602e+07</td>\n",
       "      <td>2224.0</td>\n",
       "    </tr>\n",
       "  </tbody>\n",
       "</table>\n",
       "</div>"
      ],
      "text/plain": [
       "              x             y       z\n",
       "0 -6.545501e+06  1.181633e+07  2210.0\n",
       "1 -6.545492e+06  1.181625e+07  2210.0\n",
       "2 -6.545483e+06  1.181618e+07  2216.0\n",
       "3 -6.545474e+06  1.181610e+07  2218.0\n",
       "4 -6.545465e+06  1.181602e+07  2224.0"
      ]
     },
     "execution_count": 23,
     "metadata": {},
     "output_type": "execute_result"
    }
   ],
   "source": [
    "from pyproj import Transformer\n",
    "import numpy as np\n",
    "projector = Transformer.from_crs(\"EPSG:4326\", \"EPSG:2154\")\n",
    "def project_row(row):\n",
    "        return np.array(projector.transform(row['y'], row['x'])+(row['z'],))\n",
    "test = test.apply(project_row, axis=1, result_type='broadcast')\n",
    "# for i in range(len(test)):\n",
    "#     test.iloc[i] = np.array(projector.transform(test.at[i, 'y'], test.at[i,'x'])+(test.at[i,'z'],))\n",
    "test.head()\n"
   ]
  },
  {
   "cell_type": "code",
   "execution_count": 14,
   "metadata": {},
   "outputs": [],
   "source": [
    "test.to_csv(xyz_path, sep=' ', header=False, index=False)"
   ]
  }
 ],
 "metadata": {
  "kernelspec": {
   "display_name": "geo",
   "language": "python",
   "name": "python3"
  },
  "language_info": {
   "codemirror_mode": {
    "name": "ipython",
    "version": 3
   },
   "file_extension": ".py",
   "mimetype": "text/x-python",
   "name": "python",
   "nbconvert_exporter": "python",
   "pygments_lexer": "ipython3",
   "version": "3.11.7"
  }
 },
 "nbformat": 4,
 "nbformat_minor": 2
}
